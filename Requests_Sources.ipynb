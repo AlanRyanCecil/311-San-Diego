{
 "cells": [
  {
   "cell_type": "code",
   "execution_count": 119,
   "metadata": {},
   "outputs": [],
   "source": [
    "import os\n",
    "import pandas as pd\n",
    "import numpy as np\n",
    "import matplotlib.pyplot as plt\n",
    "from pprint import pprint\n",
    "import png\n",
    "import csv"
   ]
  },
  {
   "cell_type": "code",
   "execution_count": 104,
   "metadata": {},
   "outputs": [],
   "source": [
    "# file = \"./Resource/get_it_done_311_requests_data_subset_.csv\"\n",
    "file = os.path.join('..', 'data', '311_cleaned_data_.csv')\n",
    "\n",
    "Requests_df = pd.read_csv(file)\n",
    "#Requests_df[\"source\"]"
   ]
  },
  {
   "cell_type": "code",
   "execution_count": 24,
   "metadata": {},
   "outputs": [
    {
     "data": {
      "text/plain": [
       "Mobile                         139487\n",
       "Web                             97252\n",
       "Phone                           28070\n",
       "Crew/Self Generated              8051\n",
       "Email                            2313\n",
       "Route Slip                         32\n",
       "Letter                             21\n",
       "Referral Notice                    13\n",
       "Cost Schedule                       9\n",
       "Deficiency Report                   7\n",
       "Walk-In                             7\n",
       "Station 38 Incident Reports         5\n",
       "Garage Run                          4\n",
       "Traffic Work Order (TWO)            3\n",
       "Self-Generated                      2\n",
       "999                                 2\n",
       "Accessibility - A.D.A.              1\n",
       "In Person                           1\n",
       "Name: source, dtype: int64"
      ]
     },
     "execution_count": 24,
     "metadata": {},
     "output_type": "execute_result"
    }
   ],
   "source": [
    "Requests_df[\"source\"].value_counts()"
   ]
  },
  {
   "cell_type": "code",
   "execution_count": 25,
   "metadata": {},
   "outputs": [
    {
     "data": {
      "text/plain": [
       "Graffiti                     49554\n",
       "Other                        48657\n",
       "Pothole                      37406\n",
       "Abandoned Vehicle            32373\n",
       "Illegal Dumping              23195\n",
       "72-hour Vehicle Violation    18301\n",
       "Traffic Signal               14564\n",
       "Street Light                 13690\n",
       "Sidewalk                      8373\n",
       "Traffic Sign                  6220\n",
       "Curb                          5785\n",
       "Tree Hazard                   5580\n",
       "Storm Drain                   2441\n",
       "Dead Animal                   1815\n",
       "Street Sweeping               1787\n",
       "Faded Striping                1779\n",
       "Street Flooded                1301\n",
       "Damaged Guardrail              547\n",
       "PAVEMENT                       240\n",
       "Parking Meter                  194\n",
       "ROW MAINTENANCE                127\n",
       "TREE                            88\n",
       "Parking                         85\n",
       "DRAIN INLET                     47\n",
       "Illegal Discharge               33\n",
       "DEBRIS FENCE                    15\n",
       "Over Irrigation                 13\n",
       "DRAIN_STR                        8\n",
       "DRAIN CLEANOUT                   6\n",
       "CHANNEL                          5\n",
       "DRAIN SYSTEM                     5\n",
       "CONVEYANCES                      3\n",
       "DRAINAGE CULVERT                 2\n",
       "SPILLWAY                         1\n",
       "GEARBOX                          1\n",
       "BRIDGE                           1\n",
       "TRANSFORMER                      1\n",
       "DRAINAGE DITCH                   1\n",
       "Name: service_name, dtype: int64"
      ]
     },
     "execution_count": 25,
     "metadata": {},
     "output_type": "execute_result"
    }
   ],
   "source": [
    "Requests_df[\"service_name\"].value_counts()"
   ]
  },
  {
   "cell_type": "code",
   "execution_count": 26,
   "metadata": {},
   "outputs": [
    {
     "data": {
      "text/plain": [
       "49554"
      ]
     },
     "execution_count": 26,
     "metadata": {},
     "output_type": "execute_result"
    }
   ],
   "source": [
    "Graffiti = Requests_df.loc[Requests_df[\"service_name\"] == \"Graffiti\"]\n",
    "#request_df = [()]\n",
    "Graffiti_num = len(Graffiti[\"service_name\"])\n",
    "Graffiti_num"
   ]
  },
  {
   "cell_type": "code",
   "execution_count": 27,
   "metadata": {},
   "outputs": [
    {
     "data": {
      "text/plain": [
       "37406"
      ]
     },
     "execution_count": 27,
     "metadata": {},
     "output_type": "execute_result"
    }
   ],
   "source": [
    "Pothole = Requests_df.loc[Requests_df[\"service_name\"] == \"Pothole\"]\n",
    "Pothole_num = len(Pothole[\"service_name\"])\n",
    "Pothole_num"
   ]
  },
  {
   "cell_type": "code",
   "execution_count": 28,
   "metadata": {},
   "outputs": [
    {
     "data": {
      "text/plain": [
       "50674"
      ]
     },
     "execution_count": 28,
     "metadata": {},
     "output_type": "execute_result"
    }
   ],
   "source": [
    "Abandoned_Vehicle = Requests_df.loc[(Requests_df[\"service_name\"] == \"Abandoned Vehicle\") ^ (Requests_df[\"service_name\"] == \"72-hour Vehicle Violation\")]\n",
    "Abandoned_Vehicle_num = len(Abandoned_Vehicle[\"service_name\"])\n",
    "Abandoned_Vehicle_num"
   ]
  },
  {
   "cell_type": "code",
   "execution_count": 29,
   "metadata": {},
   "outputs": [
    {
     "data": {
      "text/plain": [
       "23228"
      ]
     },
     "execution_count": 29,
     "metadata": {},
     "output_type": "execute_result"
    }
   ],
   "source": [
    "Illegal_Dumping = Requests_df.loc[(Requests_df[\"service_name\"] == \"Illegal Dumping\") ^ (Requests_df[\"service_name\"] == \"Illegal Discharge\")]\n",
    "Illegal_Dumping_num = len(Illegal_Dumping[\"service_name\"])\n",
    "Illegal_Dumping_num"
   ]
  },
  {
   "cell_type": "code",
   "execution_count": 30,
   "metadata": {},
   "outputs": [
    {
     "data": {
      "text/plain": [
       "36253"
      ]
     },
     "execution_count": 30,
     "metadata": {},
     "output_type": "execute_result"
    }
   ],
   "source": [
    "Street_work = Requests_df.loc[(Requests_df[\"service_name\"] == \"Traffic Signal\") ^ (Requests_df[\"service_name\"] == \"Street Light\") ^ (Requests_df[\"service_name\"] == \"Traffic Sign\") ^ (Requests_df[\"service_name\"] == \"Faded Striping\")]\n",
    "Street_work_num = len(Street_work[\"service_name\"])\n",
    "Street_work_num"
   ]
  },
  {
   "cell_type": "code",
   "execution_count": 31,
   "metadata": {},
   "outputs": [
    {
     "data": {
      "text/plain": [
       "2590"
      ]
     },
     "execution_count": 31,
     "metadata": {},
     "output_type": "execute_result"
    }
   ],
   "source": [
    "Road_work = Requests_df.loc[(Requests_df[\"service_name\"] == \"PAVEMENT\") ^ (Requests_df[\"service_name\"] == \"Damaged Guardrail\") ^ (Requests_df[\"service_name\"] == \"Street Sweeping\") ^ (Requests_df[\"service_name\"] == \"DEBRIS FENCE\") ^ (Requests_df[\"service_name\"] == \"BRIDGE\")]\n",
    "Road_work_num = len(Road_work[\"service_name\"])\n",
    "Road_work_num"
   ]
  },
  {
   "cell_type": "code",
   "execution_count": 32,
   "metadata": {},
   "outputs": [
    {
     "data": {
      "text/plain": [
       "14158"
      ]
     },
     "execution_count": 32,
     "metadata": {},
     "output_type": "execute_result"
    }
   ],
   "source": [
    "Sidewalk_Curb = Requests_df.loc[(Requests_df[\"service_name\"] == \"Sidewalk\") ^ (Requests_df[\"service_name\"] == \"Curb\")]\n",
    "Sidewalk_Curb_num = len(Sidewalk_Curb[\"service_name\"])\n",
    "Sidewalk_Curb_num"
   ]
  },
  {
   "cell_type": "code",
   "execution_count": 33,
   "metadata": {},
   "outputs": [
    {
     "data": {
      "text/plain": [
       "279"
      ]
     },
     "execution_count": 33,
     "metadata": {},
     "output_type": "execute_result"
    }
   ],
   "source": [
    "Parking_and_Meter = Requests_df.loc[(Requests_df[\"service_name\"] == \"Parking Meter\") ^ (Requests_df[\"service_name\"] == \"Parking\")]\n",
    "Parking_and_Meter_num = len(Parking_and_Meter[\"service_name\"])\n",
    "Parking_and_Meter_num"
   ]
  },
  {
   "cell_type": "code",
   "execution_count": 34,
   "metadata": {},
   "outputs": [
    {
     "data": {
      "text/plain": [
       "5668"
      ]
     },
     "execution_count": 34,
     "metadata": {},
     "output_type": "execute_result"
    }
   ],
   "source": [
    "Trees = Requests_df.loc[(Requests_df[\"service_name\"] == \"TREE\") ^ (Requests_df[\"service_name\"] == \"Tree Hazard\")]\n",
    "Trees_num = len(Trees[\"service_name\"])\n",
    "Trees_num"
   ]
  },
  {
   "cell_type": "code",
   "execution_count": 35,
   "metadata": {},
   "outputs": [
    {
     "data": {
      "text/plain": [
       "2515"
      ]
     },
     "execution_count": 35,
     "metadata": {},
     "output_type": "execute_result"
    }
   ],
   "source": [
    "Drain_Issues = Requests_df.loc[(Requests_df[\"service_name\"] == \"Storm Drain\") ^ (Requests_df[\"service_name\"] == \"DRAIN INLET\") ^ (Requests_df[\"service_name\"] == \"DRAIN_STR\") ^ (Requests_df[\"service_name\"] == \"DRAIN CLEANOUT\") ^ (Requests_df[\"service_name\"] == \"DRAIN SYSTEM\") ^ (Requests_df[\"service_name\"] == \"DRAINAGE CULVERT\") ^ (Requests_df[\"service_name\"] == \"DRAINAGE DITCH\") ^ (Requests_df[\"service_name\"] == \"CHANNEL\")]\n",
    "Drain_Issues_num = len(Drain_Issues[\"service_name\"])\n",
    "Drain_Issues_num"
   ]
  },
  {
   "cell_type": "code",
   "execution_count": 36,
   "metadata": {},
   "outputs": [
    {
     "data": {
      "text/plain": [
       "1315"
      ]
     },
     "execution_count": 36,
     "metadata": {},
     "output_type": "execute_result"
    }
   ],
   "source": [
    "Flooding_Issues = Requests_df.loc[(Requests_df[\"service_name\"] == \"Street Flooded\") ^ (Requests_df[\"service_name\"] == \"Over Irrigation\") ^ (Requests_df[\"service_name\"] == \"SPILLWAY\")]\n",
    "Flooding_Issues_num = len(Flooding_Issues[\"service_name\"])\n",
    "Flooding_Issues_num"
   ]
  },
  {
   "cell_type": "code",
   "execution_count": 37,
   "metadata": {},
   "outputs": [
    {
     "data": {
      "text/plain": [
       "1815"
      ]
     },
     "execution_count": 37,
     "metadata": {},
     "output_type": "execute_result"
    }
   ],
   "source": [
    "Dead_Animal = Requests_df.loc[Requests_df[\"service_name\"] == \"Dead Animal\"]\n",
    "Dead_Animal_num = len(Dead_Animal[\"service_name\"])\n",
    "Dead_Animal_num"
   ]
  },
  {
   "cell_type": "code",
   "execution_count": 176,
   "metadata": {},
   "outputs": [
    {
     "data": {
      "text/plain": [
       "48790"
      ]
     },
     "execution_count": 176,
     "metadata": {},
     "output_type": "execute_result"
    }
   ],
   "source": [
    "Other = Requests_df.loc[(Requests_df[\"service_name\"] == \"Other\") ^ (Requests_df[\"service_name\"] == \"TRANSFORMER\") ^ (Requests_df[\"service_name\"] == \"GEARBOX\") ^ (Requests_df[\"service_name\"] == \"BRIDGE\") ^ (Requests_df[\"service_name\"] == \"ROW MAINTENANCE\") ^ (Requests_df[\"service_name\"] == \"CONVEYANCES\")]\n",
    "Other_num = len(Other[\"service_name\"])\n",
    "Other_num"
   ]
  },
  {
   "cell_type": "code",
   "execution_count": 177,
   "metadata": {},
   "outputs": [
    {
     "data": {
      "image/png": "[encoded data removed]",
      "text/plain": [
       "<Figure size 1296x504 with 1 Axes>"
      ]
     },
     "metadata": {},
     "output_type": "display_data"
    }
   ],
   "source": [
    "xticks = ['Graffiti', 'Potholes', 'Abandoned Vehicle', 'Illegal Dumping', 'Street work', 'Road work', 'Sidewalk Curb', 'Parking/Meter', 'Trees Troubles', 'Drain Issues', 'Dead Animal', 'Other']\n",
    "Requests_bar_values = [Graffiti_num, Pothole_num, Abandoned_Vehicle_num, Illegal_Dumping_num, Street_work_num, Road_work_num, Sidewalk_Curb_num, Parking_and_Meter_num, Trees_num, Drain_Issues_num, Dead_Animal_num, Other_num]\n",
    "Requests_bar_values_se = pd.Series(Requests_bar_values, index=xticks)\n",
    "Requests_bar_values_se.sort_values(inplace=True)\n",
    "ax = Requests_bar_values_se.plot.barh(title=\"311 San Diego Requests\", figsize = (18, 7), fontsize=15)\n",
    "ax.set_xlabel(\"Number of Requests\", fontsize=30)\n",
    "ax.set_title(\"311 San Diego Requests\", fontsize=50)\n",
    "ax.figure.savefig(\"311 San Diego Requests.png\")"
   ]
  },
  {
   "cell_type": "code",
   "execution_count": 155,
   "metadata": {},
   "outputs": [],
   "source": [
    "#xticks = [Graffiti, Potholes, Abandoned_Vehicle, ]\n",
    "x_axis = np.arange(len(Requests_bar_values))\n",
    "#plt.bar(x_axis, Requests_bar_values)"
   ]
  },
  {
   "cell_type": "code",
   "execution_count": 71,
   "metadata": {},
   "outputs": [
    {
     "data": {
      "text/plain": [
       "139487"
      ]
     },
     "execution_count": 71,
     "metadata": {},
     "output_type": "execute_result"
    }
   ],
   "source": [
    "Mobile = Requests_df.loc[Requests_df[\"source\"] == \"Mobile\"]\n",
    "Mobile_num = len(Mobile[\"service_name\"])\n",
    "Mobile_num"
   ]
  },
  {
   "cell_type": "code",
   "execution_count": 72,
   "metadata": {},
   "outputs": [
    {
     "data": {
      "text/plain": [
       "97252"
      ]
     },
     "execution_count": 72,
     "metadata": {},
     "output_type": "execute_result"
    }
   ],
   "source": [
    "Web = Requests_df.loc[Requests_df[\"source\"] == \"Web\"]\n",
    "Web_num = len(Web[\"service_name\"])\n",
    "Web_num"
   ]
  },
  {
   "cell_type": "code",
   "execution_count": 73,
   "metadata": {},
   "outputs": [
    {
     "data": {
      "text/plain": [
       "28070"
      ]
     },
     "execution_count": 73,
     "metadata": {},
     "output_type": "execute_result"
    }
   ],
   "source": [
    "Phone = Requests_df.loc[Requests_df[\"source\"] == \"Phone\"]\n",
    "Phone_num = len(Phone[\"service_name\"])\n",
    "Phone_num"
   ]
  },
  {
   "cell_type": "code",
   "execution_count": 110,
   "metadata": {},
   "outputs": [
    {
     "data": {
      "text/plain": [
       "8100"
      ]
     },
     "execution_count": 110,
     "metadata": {},
     "output_type": "execute_result"
    }
   ],
   "source": [
    "Crew_Self_Generated = Requests_df.loc[(Requests_df[\"source\"] == \"Crew/Self Generated\") ^ (Requests_df[\"source\"] == \"Route Slip\") ^ (Requests_df[\"source\"] == \"Deficiency Report\") ^ (Requests_df[\"source\"] == \"Self-Generated\") ^ (Requests_df[\"source\"] == \"Traffic Work Order (TWO)\") ^ (Requests_df[\"source\"] == \"Station 38 Incident Reports\")]\n",
    "Crew_Self_Generated_num = len(Crew_Self_Generated[\"service_name\"])\n",
    "Crew_Self_Generated_num"
   ]
  },
  {
   "cell_type": "code",
   "execution_count": 112,
   "metadata": {},
   "outputs": [
    {
     "data": {
      "text/plain": [
       "2313"
      ]
     },
     "execution_count": 112,
     "metadata": {},
     "output_type": "execute_result"
    }
   ],
   "source": [
    "Email = Requests_df.loc[Requests_df[\"source\"] == \"Email\"]\n",
    "Email_num = len(Email[\"service_name\"])\n",
    "Email_num"
   ]
  },
  {
   "cell_type": "code",
   "execution_count": 117,
   "metadata": {},
   "outputs": [
    {
     "data": {
      "text/plain": [
       "58"
      ]
     },
     "execution_count": 117,
     "metadata": {},
     "output_type": "execute_result"
    }
   ],
   "source": [
    "Other = Requests_df.loc[(Requests_df[\"source\"] == \"Referral Notice\") ^ (Requests_df[\"source\"] == \"Cost Schedule\") ^ (Requests_df[\"source\"] == \"Walk-In\") ^ (Requests_df[\"source\"] == \"Garage Run\") ^ (Requests_df[\"source\"] == \"999\") ^ (Requests_df[\"source\"] == \"Accessibility - A.D.A.\") ^ (Requests_df[\"source\"] == \"In Person\") ^ (Requests_df[\"source\"] == \"Letter\")]\n",
    "Other_Source_num = len(Other[\"service_name\"])\n",
    "Other_Source_num"
   ]
  },
  {
   "cell_type": "code",
   "execution_count": 175,
   "metadata": {},
   "outputs": [
    {
     "data": {
      "text/plain": [
       "Text(0.5,1,'311 San Diego Requests')"
      ]
     },
     "execution_count": 175,
     "metadata": {},
     "output_type": "execute_result"
    },
    {
     "data": {
      "image/png": "[encoded data removed]",
      "text/plain": [
       "<Figure size 1296x504 with 1 Axes>"
      ]
     },
     "metadata": {},
     "output_type": "display_data"
    }
   ],
   "source": [
    "xticks_sources = ['Mobile', 'Web', 'Phone', 'Self Generated', 'Email', 'Other']\n",
    "Requests_bar_values = [Mobile_num, Web_num, Phone_num, Crew_Self_Generated_num, Email_num, Other_Source_num]\n",
    "Requests_bar_values_se = pd.Series(Requests_bar_values, index=xticks_sources)\n",
    "Requests_bar_values_se.sort_values(inplace=True)\n",
    "a = Requests_bar_values_se.plot.barh(title=\"311 San Diego Requests\", figsize = (18, 7), fontsize=25)\n",
    "a.set_xlabel(\"Number of Requests\", fontsize=30)\n",
    "a.set_title(\"311 San Diego Requests\", fontsize=50)\n",
    "ax.figure.savefig(\"311 San Diego Requests.png\")"
   ]
  },
  {
   "cell_type": "code",
   "execution_count": 160,
   "metadata": {},
   "outputs": [
    {
     "data": {
      "text/plain": [
       "count       274244\n",
       "unique          38\n",
       "top       Graffiti\n",
       "freq         49554\n",
       "Name: service_name, dtype: object"
      ]
     },
     "execution_count": 160,
     "metadata": {},
     "output_type": "execute_result"
    }
   ],
   "source": [
    "Requests_df[\"service_name\"].describe()"
   ]
  },
  {
   "cell_type": "code",
   "execution_count": null,
   "metadata": {},
   "outputs": [],
   "source": []
  }
 ],
 "metadata": {
  "kernelspec": {
   "display_name": "Python [conda env:PythonData]",
   "language": "python",
   "name": "conda-env-PythonData-py"
  },
  "language_info": {
   "codemirror_mode": {
    "name": "ipython",
    "version": 3
   },
   "file_extension": ".py",
   "mimetype": "text/x-python",
   "name": "python",
   "nbconvert_exporter": "python",
   "pygments_lexer": "ipython3",
   "version": "3.5.5"
  }
 },
 "nbformat": 4,
 "nbformat_minor": 2
}
