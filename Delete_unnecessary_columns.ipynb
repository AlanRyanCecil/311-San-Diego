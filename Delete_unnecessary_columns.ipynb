{
 "cells": [
  {
   "cell_type": "code",
   "execution_count": 54,
   "metadata": {},
   "outputs": [],
   "source": [
    "import os\n",
    "import pandas as pd\n",
    "from pprint import pprint\n",
    "\n"
   ]
  },
  {
   "cell_type": "code",
   "execution_count": 55,
   "metadata": {},
   "outputs": [],
   "source": [
    "csv_path = os.path.join('Resource', 'get_it_done_311_requests_datasd.csv')\n",
    "\n",
    "dirty_df = pd.read_csv(csv_path, low_memory=False)"
   ]
  },
  {
   "cell_type": "code",
   "execution_count": 56,
   "metadata": {},
   "outputs": [
    {
     "data": {
      "text/plain": [
       "(275281, 29)"
      ]
     },
     "execution_count": 56,
     "metadata": {},
     "output_type": "execute_result"
    }
   ],
   "source": [
    "dirty_df.shape"
   ]
  },
  {
   "cell_type": "code",
   "execution_count": 57,
   "metadata": {},
   "outputs": [
    {
     "data": {
      "text/plain": [
       "service_request_id         275281\n",
       "parent_case_number         275281\n",
       "status_description         275281\n",
       "mobile_web_status          275281\n",
       "duplicate_verified         275281\n",
       "override_duplicate         275281\n",
       "functional_location        249932\n",
       "referral_email                745\n",
       "referred_email_update       43935\n",
       "source                     275280\n",
       "requested_datetime         275281\n",
       "closed_date                125670\n",
       "updated_datetime           158982\n",
       "open                       275281\n",
       "closed                     275281\n",
       "description                273914\n",
       "agency_responsible         274720\n",
       "service_name               274244\n",
       "service_subtype             72326\n",
       "coordinates                275281\n",
       "lat                        275281\n",
       "long                       275281\n",
       "sap_notification_number    104035\n",
       "sap_problem_category       156983\n",
       "sap_problem_code           156947\n",
       "sap_problem_type           156964\n",
       "address                    274431\n",
       "case_record_type           275281\n",
       "district                   274405\n",
       "dtype: int64"
      ]
     },
     "execution_count": 57,
     "metadata": {},
     "output_type": "execute_result"
    }
   ],
   "source": [
    "dirty_df.count()"
   ]
  },
  {
   "cell_type": "code",
   "execution_count": 64,
   "metadata": {},
   "outputs": [
    {
     "data": {
      "text/html": [
       "<div>\n",
       "<style scoped>\n",
       "    .dataframe tbody tr th:only-of-type {\n",
       "        vertical-align: middle;\n",
       "    }\n",
       "\n",
       "    .dataframe tbody tr th {\n",
       "        vertical-align: top;\n",
       "    }\n",
       "\n",
       "    .dataframe thead th {\n",
       "        text-align: right;\n",
       "    }\n",
       "</style>\n",
       "<table border=\"1\" class=\"dataframe\">\n",
       "  <thead>\n",
       "    <tr style=\"text-align: right;\">\n",
       "      <th></th>\n",
       "      <th>service_request_id</th>\n",
       "      <th>duplicate_verified</th>\n",
       "      <th>override_duplicate</th>\n",
       "      <th>open</th>\n",
       "      <th>closed</th>\n",
       "      <th>lat</th>\n",
       "      <th>long</th>\n",
       "      <th>district</th>\n",
       "    </tr>\n",
       "  </thead>\n",
       "  <tbody>\n",
       "    <tr>\n",
       "      <th>count</th>\n",
       "      <td>275281.000000</td>\n",
       "      <td>275281.000000</td>\n",
       "      <td>275281.000000</td>\n",
       "      <td>275281.000000</td>\n",
       "      <td>275281.000000</td>\n",
       "      <td>275281.000000</td>\n",
       "      <td>275281.000000</td>\n",
       "      <td>274405.000000</td>\n",
       "    </tr>\n",
       "    <tr>\n",
       "      <th>mean</th>\n",
       "      <td>227110.890672</td>\n",
       "      <td>0.096400</td>\n",
       "      <td>0.102877</td>\n",
       "      <td>0.425144</td>\n",
       "      <td>0.574856</td>\n",
       "      <td>32.774081</td>\n",
       "      <td>-117.095095</td>\n",
       "      <td>4.971899</td>\n",
       "    </tr>\n",
       "    <tr>\n",
       "      <th>std</th>\n",
       "      <td>82631.134664</td>\n",
       "      <td>0.295139</td>\n",
       "      <td>0.303798</td>\n",
       "      <td>0.494366</td>\n",
       "      <td>0.494366</td>\n",
       "      <td>0.456851</td>\n",
       "      <td>2.088214</td>\n",
       "      <td>2.719430</td>\n",
       "    </tr>\n",
       "    <tr>\n",
       "      <th>min</th>\n",
       "      <td>80495.000000</td>\n",
       "      <td>0.000000</td>\n",
       "      <td>0.000000</td>\n",
       "      <td>0.000000</td>\n",
       "      <td>0.000000</td>\n",
       "      <td>-43.578128</td>\n",
       "      <td>-124.211429</td>\n",
       "      <td>1.000000</td>\n",
       "    </tr>\n",
       "    <tr>\n",
       "      <th>25%</th>\n",
       "      <td>155606.000000</td>\n",
       "      <td>0.000000</td>\n",
       "      <td>0.000000</td>\n",
       "      <td>0.000000</td>\n",
       "      <td>0.000000</td>\n",
       "      <td>32.722955</td>\n",
       "      <td>-117.180656</td>\n",
       "      <td>3.000000</td>\n",
       "    </tr>\n",
       "    <tr>\n",
       "      <th>50%</th>\n",
       "      <td>227019.000000</td>\n",
       "      <td>0.000000</td>\n",
       "      <td>0.000000</td>\n",
       "      <td>0.000000</td>\n",
       "      <td>1.000000</td>\n",
       "      <td>32.752525</td>\n",
       "      <td>-117.134614</td>\n",
       "      <td>4.000000</td>\n",
       "    </tr>\n",
       "    <tr>\n",
       "      <th>75%</th>\n",
       "      <td>297874.000000</td>\n",
       "      <td>0.000000</td>\n",
       "      <td>0.000000</td>\n",
       "      <td>1.000000</td>\n",
       "      <td>1.000000</td>\n",
       "      <td>32.803593</td>\n",
       "      <td>-117.094919</td>\n",
       "      <td>8.000000</td>\n",
       "    </tr>\n",
       "    <tr>\n",
       "      <th>max</th>\n",
       "      <td>384125.000000</td>\n",
       "      <td>1.000000</td>\n",
       "      <td>1.000000</td>\n",
       "      <td>1.000000</td>\n",
       "      <td>1.000000</td>\n",
       "      <td>59.933741</td>\n",
       "      <td>172.709463</td>\n",
       "      <td>9.000000</td>\n",
       "    </tr>\n",
       "  </tbody>\n",
       "</table>\n",
       "</div>"
      ],
      "text/plain": [
       "       service_request_id  duplicate_verified  override_duplicate  \\\n",
       "count       275281.000000       275281.000000       275281.000000   \n",
       "mean        227110.890672            0.096400            0.102877   \n",
       "std          82631.134664            0.295139            0.303798   \n",
       "min          80495.000000            0.000000            0.000000   \n",
       "25%         155606.000000            0.000000            0.000000   \n",
       "50%         227019.000000            0.000000            0.000000   \n",
       "75%         297874.000000            0.000000            0.000000   \n",
       "max         384125.000000            1.000000            1.000000   \n",
       "\n",
       "                open         closed            lat           long  \\\n",
       "count  275281.000000  275281.000000  275281.000000  275281.000000   \n",
       "mean        0.425144       0.574856      32.774081    -117.095095   \n",
       "std         0.494366       0.494366       0.456851       2.088214   \n",
       "min         0.000000       0.000000     -43.578128    -124.211429   \n",
       "25%         0.000000       0.000000      32.722955    -117.180656   \n",
       "50%         0.000000       1.000000      32.752525    -117.134614   \n",
       "75%         1.000000       1.000000      32.803593    -117.094919   \n",
       "max         1.000000       1.000000      59.933741     172.709463   \n",
       "\n",
       "            district  \n",
       "count  274405.000000  \n",
       "mean        4.971899  \n",
       "std         2.719430  \n",
       "min         1.000000  \n",
       "25%         3.000000  \n",
       "50%         4.000000  \n",
       "75%         8.000000  \n",
       "max         9.000000  "
      ]
     },
     "execution_count": 64,
     "metadata": {},
     "output_type": "execute_result"
    }
   ],
   "source": [
    "dirty_df.describe()"
   ]
  },
  {
   "cell_type": "code",
   "execution_count": 60,
   "metadata": {},
   "outputs": [],
   "source": [
    "dirty_df.drop(['coordinates',\n",
    "               'referral_email',\n",
    "               'referred_email_update',\n",
    "               'parent_case_number',\n",
    "               'sap_notification_number',\n",
    "               'sap_problem_code',\n",
    "              ], axis='columns', inplace=True)"
   ]
  },
  {
   "cell_type": "code",
   "execution_count": 61,
   "metadata": {},
   "outputs": [
    {
     "data": {
      "text/html": [
       "<div>\n",
       "<style scoped>\n",
       "    .dataframe tbody tr th:only-of-type {\n",
       "        vertical-align: middle;\n",
       "    }\n",
       "\n",
       "    .dataframe tbody tr th {\n",
       "        vertical-align: top;\n",
       "    }\n",
       "\n",
       "    .dataframe thead th {\n",
       "        text-align: right;\n",
       "    }\n",
       "</style>\n",
       "<table border=\"1\" class=\"dataframe\">\n",
       "  <thead>\n",
       "    <tr style=\"text-align: right;\">\n",
       "      <th></th>\n",
       "      <th>lat</th>\n",
       "      <th>long</th>\n",
       "    </tr>\n",
       "  </thead>\n",
       "  <tbody>\n",
       "    <tr>\n",
       "      <th>0</th>\n",
       "      <td>32.783734</td>\n",
       "      <td>-117.202187</td>\n",
       "    </tr>\n",
       "    <tr>\n",
       "      <th>1</th>\n",
       "      <td>32.743110</td>\n",
       "      <td>-117.210460</td>\n",
       "    </tr>\n",
       "    <tr>\n",
       "      <th>2</th>\n",
       "      <td>32.714120</td>\n",
       "      <td>-117.121590</td>\n",
       "    </tr>\n",
       "    <tr>\n",
       "      <th>3</th>\n",
       "      <td>32.707370</td>\n",
       "      <td>-117.146590</td>\n",
       "    </tr>\n",
       "    <tr>\n",
       "      <th>4</th>\n",
       "      <td>32.584330</td>\n",
       "      <td>-117.027900</td>\n",
       "    </tr>\n",
       "  </tbody>\n",
       "</table>\n",
       "</div>"
      ],
      "text/plain": [
       "         lat        long\n",
       "0  32.783734 -117.202187\n",
       "1  32.743110 -117.210460\n",
       "2  32.714120 -117.121590\n",
       "3  32.707370 -117.146590\n",
       "4  32.584330 -117.027900"
      ]
     },
     "execution_count": 61,
     "metadata": {},
     "output_type": "execute_result"
    }
   ],
   "source": [
    "dirty_df[['lat', 'long']].head()"
   ]
  },
  {
   "cell_type": "code",
   "execution_count": 62,
   "metadata": {},
   "outputs": [],
   "source": [
    "dirty_df.to_csv(os.path.join('Resource', 'get_it_done_311_requests_data_subset_.csv'))"
   ]
  }
 ],
 "metadata": {
  "kernelspec": {
   "display_name": "Python [conda env:PythonData=3.6]",
   "language": "python",
   "name": "conda-env-PythonData=3.6-py"
  },
  "language_info": {
   "codemirror_mode": {
    "name": "ipython",
    "version": 3
   },
   "file_extension": ".py",
   "mimetype": "text/x-python",
   "name": "python",
   "nbconvert_exporter": "python",
   "pygments_lexer": "ipython3",
   "version": "3.6.5"
  }
 },
 "nbformat": 4,
 "nbformat_minor": 2
}
