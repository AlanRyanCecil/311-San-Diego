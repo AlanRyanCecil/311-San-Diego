{
 "cells": [
  {
   "cell_type": "markdown",
   "metadata": {},
   "source": [
    "# Create all charts\n",
    "---"
   ]
  },
  {
   "cell_type": "markdown",
   "metadata": {},
   "source": [
    "## The data sets we used are:\n",
    "* City of San Diego 311 service requests\n",
    "* The San Diego zip codes from the US Census Bureau\n",
    "* Economic census data for San Diego by zipcode from the US Census Bureau\n",
    "* Open Weather Map History for temperature information"
   ]
  },
  {
   "cell_type": "code",
   "execution_count": 2,
   "metadata": {},
   "outputs": [],
   "source": [
    "import os\n",
    "import datetime\n",
    "import numpy as np\n",
    "import regex as reg\n",
    "import pandas as pd\n",
    "import matplotlib.pyplot as plt\n",
    "\n",
    "pd.options.display.float_format = '{:,.2f}'.format\n",
    "\n",
    "font = {'size': 16}\n",
    "pad = 16\n",
    "plt.rc('font', **font)\n",
    "plt.style.use('fivethirtyeight')"
   ]
  },
  {
   "cell_type": "code",
   "execution_count": 3,
   "metadata": {},
   "outputs": [
    {
     "data": {
      "text/plain": [
       "service_request_id      29578\n",
       "status_description      29578\n",
       "mobile_web_status       29578\n",
       "duplicate_verified      29578\n",
       "override_duplicate      29578\n",
       "functional_location     29578\n",
       "source                  29578\n",
       "closed_date             29578\n",
       "updated_datetime        29578\n",
       "open                    29578\n",
       "closed                  29578\n",
       "description             29578\n",
       "agency_responsible      29578\n",
       "service_name            29578\n",
       "service_subtype         29578\n",
       "lat                     29578\n",
       "long                    29578\n",
       "sap_problem_category    29578\n",
       "sap_problem_type        29578\n",
       "address                 29578\n",
       "case_record_type        29578\n",
       "district                29578\n",
       "date                    29578\n",
       "time                    29578\n",
       "weekday                 29578\n",
       "year                    29578\n",
       "month                   29578\n",
       "day                     29578\n",
       "dtype: int64"
      ]
     },
     "execution_count": 3,
     "metadata": {},
     "output_type": "execute_result"
    }
   ],
   "source": [
    "path_311 = os.path.join('..', 'data', '311_cleaned_data_.csv')\n",
    "df = pd.read_csv(path_311)\n",
    "df.dropna(inplace=True)\n",
    "df.count()"
   ]
  },
  {
   "cell_type": "code",
   "execution_count": 4,
   "metadata": {},
   "outputs": [
    {
     "data": {
      "text/plain": [
       "zip_code                273337\n",
       "Mean income             273337\n",
       "MoE Mean income         273337\n",
       "Median income           273337\n",
       "MoE Median income       273337\n",
       "total population        273337\n",
       "service_request_id      273333\n",
       "status_description      273333\n",
       "mobile_web_status       273333\n",
       "duplicate_verified      273333\n",
       "override_duplicate      273333\n",
       "functional_location     248264\n",
       "source                  273332\n",
       "closed_date             124629\n",
       "updated_datetime        157712\n",
       "open                    273333\n",
       "closed                  273333\n",
       "description             271997\n",
       "agency_responsible      272778\n",
       "service_name            272309\n",
       "service_subtype          71812\n",
       "lat                     273333\n",
       "long                    273333\n",
       "sap_problem_category    155658\n",
       "sap_problem_type        155639\n",
       "address                 272508\n",
       "case_record_type        273333\n",
       "district                272912\n",
       "date                    273333\n",
       "time                    273333\n",
       "weekday                 273333\n",
       "year                    273333\n",
       "month                   273333\n",
       "day                     273333\n",
       "dtype: int64"
      ]
     },
     "execution_count": 4,
     "metadata": {},
     "output_type": "execute_result"
    }
   ],
   "source": [
    "final_path = os.path.join('..', 'data', 'final_311.csv')\n",
    "final_df = pd.read_csv(final_path)\n",
    "final_df.count()"
   ]
  },
  {
   "cell_type": "markdown",
   "metadata": {},
   "source": [
    "### Number of 311 calls by month"
   ]
  },
  {
   "cell_type": "markdown",
   "metadata": {},
   "source": [
    "* calls from 2017-03-11 to 2018-03-10"
   ]
  },
  {
   "cell_type": "code",
   "execution_count": 9,
   "metadata": {},
   "outputs": [],
   "source": [
    "period_311 = df[df['date'] > '2017-03-10']\n",
    "period_311 = period_311[period_311['date'] < '2018-03-11']\n",
    "months = period_311.groupby('month', as_index=False)['service_request_id'].count()\n",
    "months['month'] = months['month'].map(lambda x: datetime.date(1900, int(x), 1).strftime('%B'))"
   ]
  },
  {
   "cell_type": "code",
   "execution_count": 10,
   "metadata": {},
   "outputs": [
    {
     "data": {
      "image/png": "[encoded data removed]",
      "text/plain": [
       "<Figure size 1152x576 with 1 Axes>"
      ]
     },
     "metadata": {},
     "output_type": "display_data"
    }
   ],
   "source": [
    "plt.figure(figsize=[16, 8])\n",
    "plt.bar(months['month'], months['service_request_id'], align='center')\n",
    "plt.title('Number of Service Calls per Month')\n",
    "plt.xlabel('Months')\n",
    "plt.ylabel('Number of Service Calls')\n",
    "plt.xticks(rotation=45, ha='right')\n",
    "plt.savefig(os.path.join('..', 'figures', 'calls_per_month_bar.png'))"
   ]
  },
  {
   "cell_type": "markdown",
   "metadata": {},
   "source": [
    "### Number of Calls by Weekday"
   ]
  },
  {
   "cell_type": "code",
   "execution_count": 7,
   "metadata": {},
   "outputs": [],
   "source": [
    "days = ['Monday', 'Tuesday', 'Wednesday', 'Thursday', 'Friday', 'Saturday', 'Sunday', ]\n",
    "weekdays = df.groupby('weekday', as_index=False)['service_request_id'].count()\n",
    "weekdays['day_order'] = weekdays['weekday'].map(lambda x: days.index(x))\n",
    "weekdays.sort_values('day_order', inplace=True)"
   ]
  },
  {
   "cell_type": "code",
   "execution_count": 8,
   "metadata": {},
   "outputs": [
    {
     "ename": "NameError",
     "evalue": "name 'fontsize' is not defined",
     "output_type": "error",
     "traceback": [
      "\u001b[0;31m---------------------------------------------------------------------------\u001b[0m",
      "\u001b[0;31mNameError\u001b[0m                                 Traceback (most recent call last)",
      "\u001b[0;32m<ipython-input-8-559db61d51d0>\u001b[0m in \u001b[0;36m<module>\u001b[0;34m()\u001b[0m\n\u001b[1;32m      1\u001b[0m \u001b[0mplt\u001b[0m\u001b[0;34m.\u001b[0m\u001b[0mfigure\u001b[0m\u001b[0;34m(\u001b[0m\u001b[0mfigsize\u001b[0m\u001b[0;34m=\u001b[0m\u001b[0;34m[\u001b[0m\u001b[0;36m16\u001b[0m\u001b[0;34m,\u001b[0m \u001b[0;36m8\u001b[0m\u001b[0;34m]\u001b[0m\u001b[0;34m)\u001b[0m\u001b[0;34m\u001b[0m\u001b[0m\n\u001b[1;32m      2\u001b[0m \u001b[0mplt\u001b[0m\u001b[0;34m.\u001b[0m\u001b[0mbar\u001b[0m\u001b[0;34m(\u001b[0m\u001b[0mweekdays\u001b[0m\u001b[0;34m[\u001b[0m\u001b[0;34m'weekday'\u001b[0m\u001b[0;34m]\u001b[0m\u001b[0;34m,\u001b[0m \u001b[0mweekdays\u001b[0m\u001b[0;34m[\u001b[0m\u001b[0;34m'service_request_id'\u001b[0m\u001b[0;34m]\u001b[0m\u001b[0;34m,\u001b[0m \u001b[0malign\u001b[0m\u001b[0;34m=\u001b[0m\u001b[0;34m'center'\u001b[0m\u001b[0;34m)\u001b[0m\u001b[0;34m\u001b[0m\u001b[0m\n\u001b[0;32m----> 3\u001b[0;31m \u001b[0mplt\u001b[0m\u001b[0;34m.\u001b[0m\u001b[0mtitle\u001b[0m\u001b[0;34m(\u001b[0m\u001b[0;34m'Calls by Day of the Week'\u001b[0m\u001b[0;34m,\u001b[0m \u001b[0mfontsize\u001b[0m\u001b[0;34m=\u001b[0m\u001b[0mfontsize\u001b[0m\u001b[0;34m,\u001b[0m \u001b[0mpad\u001b[0m\u001b[0;34m=\u001b[0m\u001b[0mfontsize\u001b[0m\u001b[0;34m)\u001b[0m\u001b[0;34m\u001b[0m\u001b[0m\n\u001b[0m\u001b[1;32m      4\u001b[0m \u001b[0mplt\u001b[0m\u001b[0;34m.\u001b[0m\u001b[0mxlabel\u001b[0m\u001b[0;34m(\u001b[0m\u001b[0;34m'Day of the Week'\u001b[0m\u001b[0;34m,\u001b[0m \u001b[0mfontsize\u001b[0m\u001b[0;34m=\u001b[0m\u001b[0mfontsize\u001b[0m\u001b[0;34m,\u001b[0m \u001b[0mlabelpad\u001b[0m\u001b[0;34m=\u001b[0m\u001b[0mfontsize\u001b[0m\u001b[0;34m)\u001b[0m\u001b[0;34m\u001b[0m\u001b[0m\n\u001b[1;32m      5\u001b[0m \u001b[0mplt\u001b[0m\u001b[0;34m.\u001b[0m\u001b[0mylabel\u001b[0m\u001b[0;34m(\u001b[0m\u001b[0;34m'Number of Calls'\u001b[0m\u001b[0;34m,\u001b[0m \u001b[0mfontsize\u001b[0m\u001b[0;34m=\u001b[0m\u001b[0mfontsize\u001b[0m\u001b[0;34m,\u001b[0m \u001b[0mlabelpad\u001b[0m\u001b[0;34m=\u001b[0m\u001b[0mfontsize\u001b[0m\u001b[0;34m)\u001b[0m\u001b[0;34m\u001b[0m\u001b[0m\n",
      "\u001b[0;31mNameError\u001b[0m: name 'fontsize' is not defined"
     ]
    },
    {
     "data": {
      "image/png": "[encoded data removed]",
      "text/plain": [
       "<Figure size 1152x576 with 1 Axes>"
      ]
     },
     "metadata": {},
     "output_type": "display_data"
    }
   ],
   "source": [
    "plt.figure(figsize=[16, 8])\n",
    "plt.bar(weekdays['weekday'], weekdays['service_request_id'], align='center')\n",
    "plt.title('Calls by Day of the Week', fontsize=fontsize, pad=fontsize)\n",
    "plt.xlabel('Day of the Week', fontsize=fontsize, labelpad=fontsize)\n",
    "plt.ylabel('Number of Calls', fontsize=fontsize, labelpad=fontsize)"
   ]
  },
  {
   "cell_type": "markdown",
   "metadata": {},
   "source": [
    "### Number of Calls by Time of Day"
   ]
  },
  {
   "cell_type": "code",
   "execution_count": null,
   "metadata": {},
   "outputs": [],
   "source": []
  },
  {
   "cell_type": "markdown",
   "metadata": {},
   "source": [
    "## Number of 311 Call by Zip Code"
   ]
  },
  {
   "cell_type": "code",
   "execution_count": null,
   "metadata": {},
   "outputs": [],
   "source": [
    "final_311_path = os.path.join('..','data','final_311.csv')\n",
    "final_311_df = pd.read_csv(final_311_path)"
   ]
  },
  {
   "cell_type": "code",
   "execution_count": null,
   "metadata": {},
   "outputs": [],
   "source": [
    "zip_service = final_311_df.groupby('zip_code')['service_request_id'].count().sort_values(ascending=False)\n",
    "# zip_service"
   ]
  },
  {
   "cell_type": "code",
   "execution_count": null,
   "metadata": {},
   "outputs": [],
   "source": [
    "fig, ax = plt.subplots(figsize=[16, 8])\n",
    "zip_service_plt = zip_service.plot(kind='bar', color='green',alpha =0.75)\n",
    "plt.xlabel('Zip Code', fontsize=fontsize,labelpad=fontsize)\n",
    "plt.ylabel('Number of Service Calls',fontsize=fontsize,labelpad=fontsize)\n",
    "plt.title('Number of 311 Call by Zip Code',fontsize=fontsize,pad=fontsize)\n",
    "plt.xticks(rotation=60, ha='right')\n",
    "plt.savefig(os.path.join('..','figures','number_of_311_call_by_zip_code.png'))"
   ]
  },
  {
   "cell_type": "code",
   "execution_count": null,
   "metadata": {},
   "outputs": [],
   "source": []
  },
  {
   "cell_type": "code",
   "execution_count": null,
   "metadata": {},
   "outputs": [],
   "source": []
  },
  {
   "cell_type": "markdown",
   "metadata": {},
   "source": [
    "### Number of 311 calls by type"
   ]
  },
  {
   "cell_type": "markdown",
   "metadata": {},
   "source": [
    "* Garrett is working on this"
   ]
  },
  {
   "cell_type": "code",
   "execution_count": null,
   "metadata": {},
   "outputs": [],
   "source": [
    "service = df.groupby('service_subtype')['service_request_id'].count().sort_values().tail(20)\n",
    "fig, ax = plt.subplots(figsize=[16, 8])\n",
    "service.plot.bar(zorder=2)\n",
    "plt.xticks(rotation=70, ha='right')\n",
    "plt.grid()"
   ]
  },
  {
   "cell_type": "markdown",
   "metadata": {},
   "source": [
    "### breakdown of percentage of call categories"
   ]
  },
  {
   "cell_type": "code",
   "execution_count": null,
   "metadata": {},
   "outputs": [],
   "source": []
  },
  {
   "cell_type": "markdown",
   "metadata": {},
   "source": [
    "### locations of callers (bubble plot?)"
   ]
  },
  {
   "cell_type": "code",
   "execution_count": null,
   "metadata": {},
   "outputs": [],
   "source": []
  },
  {
   "cell_type": "markdown",
   "metadata": {},
   "source": [
    "### Number of calls per capita by zipcode"
   ]
  },
  {
   "cell_type": "code",
   "execution_count": null,
   "metadata": {},
   "outputs": [],
   "source": [
    "pop_path = os.path.join('..', 'data', 'census_population_by_zip.csv')\n",
    "pop_df = pd.read_csv(pop_path)\n",
    "pop_df.tail()"
   ]
  },
  {
   "cell_type": "markdown",
   "metadata": {},
   "source": [
    "### Number of calls by median household income of zip"
   ]
  },
  {
   "cell_type": "code",
   "execution_count": null,
   "metadata": {},
   "outputs": [],
   "source": [
    "income_path = os.path.join('..', 'data', 'census_income_by_zip.csv')\n",
    "income_df = pd.read_csv(income_path)\n",
    "income_df.head()"
   ]
  },
  {
   "cell_type": "code",
   "execution_count": null,
   "metadata": {},
   "outputs": [],
   "source": [
    "pop_income_df = pop_df.merge(income_df, on='zip_code', how='right')\n",
    "pop_income_df.head()"
   ]
  },
  {
   "cell_type": "code",
   "execution_count": null,
   "metadata": {},
   "outputs": [],
   "source": [
    "zip_gp = final_df.groupby('zip_code', as_index=False)\n",
    "med_income = zip_gp['Median income'].mean()\n",
    "zip_calls = zip_gp['service_request_id'].count()\n",
    "total_pop = zip_gp['total population'].first()\n",
    "total_pop.head()"
   ]
  },
  {
   "cell_type": "code",
   "execution_count": null,
   "metadata": {},
   "outputs": [],
   "source": [
    "calls_income = med_income.merge(zip_calls, on='zip_code', how='outer')\n",
    "calls_income = calls_income.merge(total_pop, on='zip_code', how='outer')\n",
    "calls_income.head()"
   ]
  },
  {
   "cell_type": "code",
   "execution_count": null,
   "metadata": {},
   "outputs": [],
   "source": [
    "bins = [0, 35000, 55000, 75000, 95000, 115000, 999999999]\n",
    "bin_names = ['<$35,000', '\\$35,001-\\$55,000', '\\$55,001-\\$75,000', '\\$75,001-\\$95,000', '\\$95,001-\\$115,000', '>$115,000']\n",
    "calls_income['income_ranges'] = pd.cut(x=calls_income['Median income'], bins=bins, labels=bin_names)\n",
    "calls_income_gp = calls_income.groupby(by='income_ranges', as_index=False)\n",
    "call_count = calls_income_gp['service_request_id'].sum()\n",
    "total_pop_per_range = calls_income_gp['total population'].sum()\n",
    "call_count['total population'] = total_pop_per_range['total population']\n",
    "call_count['caller percentage'] = (call_count['service_request_id'] / call_count['total population']) * 100\n",
    "call_count"
   ]
  },
  {
   "cell_type": "code",
   "execution_count": null,
   "metadata": {},
   "outputs": [],
   "source": [
    "\n",
    "plt.figure(figsize=[16, 8])\n",
    "plt.bar(call_count['income_ranges'], call_count['caller percentage'])\n",
    "plt.xticks(rotation=45, ha='right')\n",
    "plt.title('Percentage of 311 Calls Per Capita')#, fontsize=fontsize, pad=fontsize)\n",
    "plt.xlabel('Income')"
   ]
  },
  {
   "cell_type": "code",
   "execution_count": null,
   "metadata": {},
   "outputs": [],
   "source": [
    "plt.scatter(med_income['Median income'], zip_calls['service_request_id'])"
   ]
  },
  {
   "cell_type": "markdown",
   "metadata": {},
   "source": [
    "### Number of calls by crime rate of zip"
   ]
  },
  {
   "cell_type": "code",
   "execution_count": null,
   "metadata": {},
   "outputs": [],
   "source": []
  },
  {
   "cell_type": "markdown",
   "metadata": {},
   "source": [
    "### Percent of call types by median household income (stacked bar)"
   ]
  },
  {
   "cell_type": "code",
   "execution_count": null,
   "metadata": {},
   "outputs": [],
   "source": []
  },
  {
   "cell_type": "markdown",
   "metadata": {},
   "source": [
    "### Number of calls by Temperature scatter"
   ]
  },
  {
   "cell_type": "markdown",
   "metadata": {},
   "source": [
    "* calls from 2017-03-11 to 2018-03-10"
   ]
  },
  {
   "cell_type": "code",
   "execution_count": null,
   "metadata": {},
   "outputs": [],
   "source": [
    "owm_path = os.path.join('..', 'data', 'owm_2016_2018.csv')\n",
    "temp_df = pd.read_csv(owm_path)\n",
    "temp_df['date'] = temp_df['dt_iso'].map(lambda x: reg.sub('\\s\\d{2}:\\d{2}:\\d{2}\\s\\+\\d{4}\\sUTC', '', x))\n",
    "temp_df = temp_df[temp_df['date'] > '2017-03-10']\n",
    "temp_df = temp_df[temp_df['date'] < '2018-03-11']\n",
    "temp_df = temp_df.groupby('date', as_index=False).mean()"
   ]
  },
  {
   "cell_type": "code",
   "execution_count": null,
   "metadata": {
    "scrolled": true
   },
   "outputs": [],
   "source": [
    "date_311 = period_311.groupby('date', as_index=False).count()"
   ]
  },
  {
   "cell_type": "code",
   "execution_count": null,
   "metadata": {},
   "outputs": [],
   "source": [
    "plt.figure(figsize=[16, 8])\n",
    "plt.scatter(date_311['service_request_id'], temp_df['temp_f'])\n",
    "plt.title('Call Frequency by Temperature', pad=23)\n",
    "plt.xlabel('Number of Calls', labelpad=16)\n",
    "plt.ylabel('Temperature in Fahrenheit', labelpad=16)"
   ]
  },
  {
   "cell_type": "code",
   "execution_count": null,
   "metadata": {},
   "outputs": [],
   "source": []
  }
 ],
 "metadata": {
  "kernelspec": {
   "display_name": "Python [conda env:PythonData]",
   "language": "python",
   "name": "conda-env-PythonData-py"
  },
  "language_info": {
   "codemirror_mode": {
    "name": "ipython",
    "version": 3
   },
   "file_extension": ".py",
   "mimetype": "text/x-python",
   "name": "python",
   "nbconvert_exporter": "python",
   "pygments_lexer": "ipython3",
   "version": "3.5.5"
  }
 },
 "nbformat": 4,
 "nbformat_minor": 2
}
