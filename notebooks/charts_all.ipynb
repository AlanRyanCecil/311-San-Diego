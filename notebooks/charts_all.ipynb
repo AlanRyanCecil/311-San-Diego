{
 "cells": [
  {
   "cell_type": "markdown",
   "metadata": {},
   "source": [
    "# Create all charts\n",
    "---"
   ]
  },
  {
   "cell_type": "markdown",
   "metadata": {},
   "source": [
    "## The data sets we used are:\n",
    "* City of Austin, austin_311_service_requests.csv\n",
    "* The Travis county zip codes from the US Census Bureau.\n",
    "* Social/Economic census data for Austin, TX by zipcode from the US Census Bureau\n",
    "* City of Austin Household statistics from the US Census Bureau."
   ]
  },
  {
   "cell_type": "code",
   "execution_count": 1,
   "metadata": {},
   "outputs": [],
   "source": [
    "import os\n",
    "import datetime\n",
    "import numpy as np\n",
    "import regex as reg\n",
    "import pandas as pd\n",
    "import matplotlib.pyplot as plt\n",
    "\n",
    "pd.options.display.float_format = '{:,.2f}'.format"
   ]
  },
  {
   "cell_type": "code",
   "execution_count": 2,
   "metadata": {},
   "outputs": [
    {
     "data": {
      "text/plain": [
       "service_request_id      29578\n",
       "status_description      29578\n",
       "mobile_web_status       29578\n",
       "duplicate_verified      29578\n",
       "override_duplicate      29578\n",
       "functional_location     29578\n",
       "source                  29578\n",
       "closed_date             29578\n",
       "updated_datetime        29578\n",
       "open                    29578\n",
       "closed                  29578\n",
       "description             29578\n",
       "agency_responsible      29578\n",
       "service_name            29578\n",
       "service_subtype         29578\n",
       "lat                     29578\n",
       "long                    29578\n",
       "sap_problem_category    29578\n",
       "sap_problem_type        29578\n",
       "address                 29578\n",
       "case_record_type        29578\n",
       "district                29578\n",
       "date                    29578\n",
       "time                    29578\n",
       "weekday                 29578\n",
       "year                    29578\n",
       "month                   29578\n",
       "day                     29578\n",
       "dtype: int64"
      ]
     },
     "execution_count": 2,
     "metadata": {},
     "output_type": "execute_result"
    }
   ],
   "source": [
    "path_311 = os.path.join('..', 'data', '311_cleaned_data_.csv')\n",
    "df = pd.read_csv(path_311)\n",
    "df.dropna(inplace=True)\n",
    "df.count()"
   ]
  },
  {
   "cell_type": "markdown",
   "metadata": {},
   "source": [
    "### Number of 311 calls by month"
   ]
  },
  {
   "cell_type": "markdown",
   "metadata": {},
   "source": [
    "* calls from 2017-03-11 to 2018-03-10"
   ]
  },
  {
   "cell_type": "code",
   "execution_count": 3,
   "metadata": {},
   "outputs": [
    {
     "name": "stdout",
     "output_type": "stream",
     "text": [
      "min: 2016-05-20\n",
      "max: 2018-03-10\n"
     ]
    }
   ],
   "source": [
    "print('min:', df['date'].min())\n",
    "print('max:', df['date'].max())"
   ]
  },
  {
   "cell_type": "code",
   "execution_count": 22,
   "metadata": {},
   "outputs": [],
   "source": [
    "period_311 = df[df['date'] > '2017-03-10']\n",
    "period_311 = period_311[period_311['date'] < '2018-03-11']\n",
    "months = period_311.groupby('month', as_index=False)['service_request_id'].count()\n",
    "months['month'] = months['month'].map(lambda x: datetime.date(1900, int(x), 1).strftime('%B'))"
   ]
  },
  {
   "cell_type": "code",
   "execution_count": 23,
   "metadata": {},
   "outputs": [
    {
     "data": {
      "text/html": [
       "<div>\n",
       "<style scoped>\n",
       "    .dataframe tbody tr th:only-of-type {\n",
       "        vertical-align: middle;\n",
       "    }\n",
       "\n",
       "    .dataframe tbody tr th {\n",
       "        vertical-align: top;\n",
       "    }\n",
       "\n",
       "    .dataframe thead th {\n",
       "        text-align: right;\n",
       "    }\n",
       "</style>\n",
       "<table border=\"1\" class=\"dataframe\">\n",
       "  <thead>\n",
       "    <tr style=\"text-align: right;\">\n",
       "      <th></th>\n",
       "      <th>service_request_id</th>\n",
       "      <th>status_description</th>\n",
       "      <th>mobile_web_status</th>\n",
       "      <th>duplicate_verified</th>\n",
       "      <th>override_duplicate</th>\n",
       "      <th>functional_location</th>\n",
       "      <th>source</th>\n",
       "      <th>closed_date</th>\n",
       "      <th>updated_datetime</th>\n",
       "      <th>open</th>\n",
       "      <th>...</th>\n",
       "      <th>sap_problem_type</th>\n",
       "      <th>address</th>\n",
       "      <th>case_record_type</th>\n",
       "      <th>district</th>\n",
       "      <th>date</th>\n",
       "      <th>time</th>\n",
       "      <th>weekday</th>\n",
       "      <th>year</th>\n",
       "      <th>month</th>\n",
       "      <th>day</th>\n",
       "    </tr>\n",
       "  </thead>\n",
       "  <tbody>\n",
       "    <tr>\n",
       "      <th>61877</th>\n",
       "      <td>305193</td>\n",
       "      <td>Closed</td>\n",
       "      <td>Closed</td>\n",
       "      <td>0</td>\n",
       "      <td>0</td>\n",
       "      <td>q</td>\n",
       "      <td>Mobile</td>\n",
       "      <td>2018-03-11T03:15:00</td>\n",
       "      <td>2018-03-11T03:15:00</td>\n",
       "      <td>0</td>\n",
       "      <td>...</td>\n",
       "      <td>ReReferral</td>\n",
       "      <td>1000-1032 Sea World Dr, San Diego, CA 92110, USA</td>\n",
       "      <td>Street Division Closed Case</td>\n",
       "      <td>2.00</td>\n",
       "      <td>2018-03-10</td>\n",
       "      <td>18:18:00</td>\n",
       "      <td>Saturday</td>\n",
       "      <td>2018</td>\n",
       "      <td>3</td>\n",
       "      <td>10</td>\n",
       "    </tr>\n",
       "    <tr>\n",
       "      <th>61910</th>\n",
       "      <td>305112</td>\n",
       "      <td>Closed</td>\n",
       "      <td>Closed</td>\n",
       "      <td>0</td>\n",
       "      <td>0</td>\n",
       "      <td>SS-031091</td>\n",
       "      <td>Phone</td>\n",
       "      <td>2018-04-13T08:02:00</td>\n",
       "      <td>2018-07-10T10:24:00</td>\n",
       "      <td>0</td>\n",
       "      <td>...</td>\n",
       "      <td>Debris in Street</td>\n",
       "      <td>13500 CAM DEL SUR, 92129</td>\n",
       "      <td>Storm Water Closed Case</td>\n",
       "      <td>5.00</td>\n",
       "      <td>2018-03-09</td>\n",
       "      <td>16:34:00</td>\n",
       "      <td>Friday</td>\n",
       "      <td>2018</td>\n",
       "      <td>3</td>\n",
       "      <td>9</td>\n",
       "    </tr>\n",
       "    <tr>\n",
       "      <th>61911</th>\n",
       "      <td>305111</td>\n",
       "      <td>Closed</td>\n",
       "      <td>Closed</td>\n",
       "      <td>0</td>\n",
       "      <td>0</td>\n",
       "      <td>SS-019733</td>\n",
       "      <td>Email</td>\n",
       "      <td>2018-04-10T09:16:00</td>\n",
       "      <td>2018-04-10T09:16:00</td>\n",
       "      <td>0</td>\n",
       "      <td>...</td>\n",
       "      <td>Debris in Street</td>\n",
       "      <td>6000 NAVAJO RD</td>\n",
       "      <td>Storm Water Closed Case</td>\n",
       "      <td>7.00</td>\n",
       "      <td>2018-03-09</td>\n",
       "      <td>16:30:00</td>\n",
       "      <td>Friday</td>\n",
       "      <td>2018</td>\n",
       "      <td>3</td>\n",
       "      <td>9</td>\n",
       "    </tr>\n",
       "    <tr>\n",
       "      <th>61937</th>\n",
       "      <td>305084</td>\n",
       "      <td>Closed</td>\n",
       "      <td>Closed</td>\n",
       "      <td>0</td>\n",
       "      <td>0</td>\n",
       "      <td>SS-015691</td>\n",
       "      <td>Phone</td>\n",
       "      <td>2018-04-02T08:36:00</td>\n",
       "      <td>2018-04-26T09:25:00</td>\n",
       "      <td>0</td>\n",
       "      <td>...</td>\n",
       "      <td>Bike Removal</td>\n",
       "      <td>1501 LA PLAYA AV, 92109</td>\n",
       "      <td>Street Division Closed Case</td>\n",
       "      <td>2.00</td>\n",
       "      <td>2018-03-09</td>\n",
       "      <td>14:52:00</td>\n",
       "      <td>Friday</td>\n",
       "      <td>2018</td>\n",
       "      <td>3</td>\n",
       "      <td>9</td>\n",
       "    </tr>\n",
       "    <tr>\n",
       "      <th>61951</th>\n",
       "      <td>305070</td>\n",
       "      <td>Closed</td>\n",
       "      <td>Closed</td>\n",
       "      <td>0</td>\n",
       "      <td>0</td>\n",
       "      <td>SS-020446-PV1</td>\n",
       "      <td>Phone</td>\n",
       "      <td>2018-07-26T02:28:00</td>\n",
       "      <td>2018-07-26T02:28:00</td>\n",
       "      <td>0</td>\n",
       "      <td>...</td>\n",
       "      <td>Debris in Street</td>\n",
       "      <td>ROSECRANS ST &amp; OLIPHANT ST,, 92106</td>\n",
       "      <td>Storm Water</td>\n",
       "      <td>2.00</td>\n",
       "      <td>2018-03-09</td>\n",
       "      <td>14:27:00</td>\n",
       "      <td>Friday</td>\n",
       "      <td>2018</td>\n",
       "      <td>3</td>\n",
       "      <td>9</td>\n",
       "    </tr>\n",
       "  </tbody>\n",
       "</table>\n",
       "<p>5 rows × 28 columns</p>\n",
       "</div>"
      ],
      "text/plain": [
       "       service_request_id status_description mobile_web_status  \\\n",
       "61877              305193             Closed            Closed   \n",
       "61910              305112             Closed            Closed   \n",
       "61911              305111             Closed            Closed   \n",
       "61937              305084             Closed            Closed   \n",
       "61951              305070             Closed            Closed   \n",
       "\n",
       "       duplicate_verified  override_duplicate functional_location  source  \\\n",
       "61877                   0                   0                   q  Mobile   \n",
       "61910                   0                   0           SS-031091   Phone   \n",
       "61911                   0                   0           SS-019733   Email   \n",
       "61937                   0                   0           SS-015691   Phone   \n",
       "61951                   0                   0       SS-020446-PV1   Phone   \n",
       "\n",
       "               closed_date     updated_datetime  open ...  sap_problem_type  \\\n",
       "61877  2018-03-11T03:15:00  2018-03-11T03:15:00     0 ...        ReReferral   \n",
       "61910  2018-04-13T08:02:00  2018-07-10T10:24:00     0 ...  Debris in Street   \n",
       "61911  2018-04-10T09:16:00  2018-04-10T09:16:00     0 ...  Debris in Street   \n",
       "61937  2018-04-02T08:36:00  2018-04-26T09:25:00     0 ...      Bike Removal   \n",
       "61951  2018-07-26T02:28:00  2018-07-26T02:28:00     0 ...  Debris in Street   \n",
       "\n",
       "                                                address  \\\n",
       "61877  1000-1032 Sea World Dr, San Diego, CA 92110, USA   \n",
       "61910                          13500 CAM DEL SUR, 92129   \n",
       "61911                                    6000 NAVAJO RD   \n",
       "61937                           1501 LA PLAYA AV, 92109   \n",
       "61951                ROSECRANS ST & OLIPHANT ST,, 92106   \n",
       "\n",
       "                  case_record_type district        date      time   weekday  \\\n",
       "61877  Street Division Closed Case     2.00  2018-03-10  18:18:00  Saturday   \n",
       "61910      Storm Water Closed Case     5.00  2018-03-09  16:34:00    Friday   \n",
       "61911      Storm Water Closed Case     7.00  2018-03-09  16:30:00    Friday   \n",
       "61937  Street Division Closed Case     2.00  2018-03-09  14:52:00    Friday   \n",
       "61951                  Storm Water     2.00  2018-03-09  14:27:00    Friday   \n",
       "\n",
       "       year month day  \n",
       "61877  2018     3  10  \n",
       "61910  2018     3   9  \n",
       "61911  2018     3   9  \n",
       "61937  2018     3   9  \n",
       "61951  2018     3   9  \n",
       "\n",
       "[5 rows x 28 columns]"
      ]
     },
     "execution_count": 23,
     "metadata": {},
     "output_type": "execute_result"
    }
   ],
   "source": [
    "period_311.head()"
   ]
  },
  {
   "cell_type": "code",
   "execution_count": 6,
   "metadata": {},
   "outputs": [
    {
     "data": {
      "text/plain": [
       "([0, 1, 2, 3, 4, 5, 6, 7, 8, 9, 10, 11],\n",
       " <a list of 12 Text xticklabel objects>)"
      ]
     },
     "execution_count": 6,
     "metadata": {},
     "output_type": "execute_result"
    },
    {
     "data": {
      "image/png": "[encoded data removed]",
      "text/plain": [
       "<Figure size 1152x576 with 1 Axes>"
      ]
     },
     "metadata": {},
     "output_type": "display_data"
    }
   ],
   "source": [
    "plt.figure(figsize=[16, 8])\n",
    "plt.bar(months['month'], months['service_request_id'])\n",
    "plt.xlabel('Months')\n",
    "plt.ylabel('Number of Service Calls')\n",
    "plt.xticks(rotation=45, ha='right')"
   ]
  },
  {
   "cell_type": "markdown",
   "metadata": {},
   "source": [
    "### Number of 311 calls by type"
   ]
  },
  {
   "cell_type": "markdown",
   "metadata": {},
   "source": [
    "* Garrett is working on this"
   ]
  },
  {
   "cell_type": "code",
   "execution_count": 7,
   "metadata": {},
   "outputs": [
    {
     "data": {
      "text/plain": [
       "(array([0, 1, 2, 3, 4, 5, 6, 7, 8]), <a list of 9 Text xticklabel objects>)"
      ]
     },
     "execution_count": 7,
     "metadata": {},
     "output_type": "execute_result"
    },
    {
     "data": {
      "image/png": "[encoded data removed]",
      "text/plain": [
       "<Figure size 1152x576 with 1 Axes>"
      ]
     },
     "metadata": {},
     "output_type": "display_data"
    }
   ],
   "source": [
    "service_df = df.groupby('service_name')\n",
    "service = service_df['service_request_id'].sum().sort_values()\n",
    "fig, ax = plt.subplots(figsize=[16, 8])\n",
    "service.plot.bar()\n",
    "plt.xticks(rotation=70, ha='right')"
   ]
  },
  {
   "cell_type": "markdown",
   "metadata": {},
   "source": [
    "### breakdown of percentage of call categories"
   ]
  },
  {
   "cell_type": "code",
   "execution_count": 8,
   "metadata": {},
   "outputs": [
    {
     "data": {
      "text/plain": [
       "array(['Street Division Closed Case', 'Storm Water Closed Case',\n",
       "       'Storm Water', 'Traffic Engineering',\n",
       "       'Traffic Engineering Closed Case', 'Street Division'], dtype=object)"
      ]
     },
     "execution_count": 8,
     "metadata": {},
     "output_type": "execute_result"
    }
   ],
   "source": [
    "df['case_record_type'].unique()"
   ]
  },
  {
   "cell_type": "markdown",
   "metadata": {},
   "source": [
    "### locations of callers (bubble plot?)"
   ]
  },
  {
   "cell_type": "code",
   "execution_count": null,
   "metadata": {},
   "outputs": [],
   "source": []
  },
  {
   "cell_type": "markdown",
   "metadata": {},
   "source": [
    "### Number of calls per capita by zipcode"
   ]
  },
  {
   "cell_type": "code",
   "execution_count": 9,
   "metadata": {},
   "outputs": [
    {
     "data": {
      "text/html": [
       "<div>\n",
       "<style scoped>\n",
       "    .dataframe tbody tr th:only-of-type {\n",
       "        vertical-align: middle;\n",
       "    }\n",
       "\n",
       "    .dataframe tbody tr th {\n",
       "        vertical-align: top;\n",
       "    }\n",
       "\n",
       "    .dataframe thead th {\n",
       "        text-align: right;\n",
       "    }\n",
       "</style>\n",
       "<table border=\"1\" class=\"dataframe\">\n",
       "  <thead>\n",
       "    <tr style=\"text-align: right;\">\n",
       "      <th></th>\n",
       "      <th>zip_code</th>\n",
       "      <th>total population</th>\n",
       "    </tr>\n",
       "  </thead>\n",
       "  <tbody>\n",
       "    <tr>\n",
       "      <th>0</th>\n",
       "      <td>91901</td>\n",
       "      <td>18586</td>\n",
       "    </tr>\n",
       "    <tr>\n",
       "      <th>1</th>\n",
       "      <td>91902</td>\n",
       "      <td>19429</td>\n",
       "    </tr>\n",
       "    <tr>\n",
       "      <th>2</th>\n",
       "      <td>91905</td>\n",
       "      <td>1539</td>\n",
       "    </tr>\n",
       "    <tr>\n",
       "      <th>3</th>\n",
       "      <td>91906</td>\n",
       "      <td>3565</td>\n",
       "    </tr>\n",
       "    <tr>\n",
       "      <th>4</th>\n",
       "      <td>91910</td>\n",
       "      <td>76027</td>\n",
       "    </tr>\n",
       "  </tbody>\n",
       "</table>\n",
       "</div>"
      ],
      "text/plain": [
       "   zip_code  total population\n",
       "0     91901             18586\n",
       "1     91902             19429\n",
       "2     91905              1539\n",
       "3     91906              3565\n",
       "4     91910             76027"
      ]
     },
     "execution_count": 9,
     "metadata": {},
     "output_type": "execute_result"
    }
   ],
   "source": [
    "pop_path = os.path.join('..', 'data', 'census_population_by_zip.csv')\n",
    "pop_df = pd.read_csv(pop_path)\n",
    "pop_df.head()"
   ]
  },
  {
   "cell_type": "markdown",
   "metadata": {},
   "source": [
    "### Number of calls by median household income of zip"
   ]
  },
  {
   "cell_type": "code",
   "execution_count": 10,
   "metadata": {},
   "outputs": [
    {
     "data": {
      "text/html": [
       "<div>\n",
       "<style scoped>\n",
       "    .dataframe tbody tr th:only-of-type {\n",
       "        vertical-align: middle;\n",
       "    }\n",
       "\n",
       "    .dataframe tbody tr th {\n",
       "        vertical-align: top;\n",
       "    }\n",
       "\n",
       "    .dataframe thead th {\n",
       "        text-align: right;\n",
       "    }\n",
       "</style>\n",
       "<table border=\"1\" class=\"dataframe\">\n",
       "  <thead>\n",
       "    <tr style=\"text-align: right;\">\n",
       "      <th></th>\n",
       "      <th>zip_code</th>\n",
       "      <th>Mean income</th>\n",
       "      <th>MoE Mean income</th>\n",
       "      <th>Median income</th>\n",
       "      <th>MoE Median income</th>\n",
       "    </tr>\n",
       "  </thead>\n",
       "  <tbody>\n",
       "    <tr>\n",
       "      <th>0</th>\n",
       "      <td>91911</td>\n",
       "      <td>62932</td>\n",
       "      <td>2137</td>\n",
       "      <td>51383</td>\n",
       "      <td>1874</td>\n",
       "    </tr>\n",
       "    <tr>\n",
       "      <th>1</th>\n",
       "      <td>91914</td>\n",
       "      <td>137640</td>\n",
       "      <td>8680</td>\n",
       "      <td>124578</td>\n",
       "      <td>7047</td>\n",
       "    </tr>\n",
       "    <tr>\n",
       "      <th>2</th>\n",
       "      <td>91915</td>\n",
       "      <td>111918</td>\n",
       "      <td>8589</td>\n",
       "      <td>104170</td>\n",
       "      <td>6753</td>\n",
       "    </tr>\n",
       "    <tr>\n",
       "      <th>3</th>\n",
       "      <td>91932</td>\n",
       "      <td>59870</td>\n",
       "      <td>2942</td>\n",
       "      <td>48010</td>\n",
       "      <td>1975</td>\n",
       "    </tr>\n",
       "    <tr>\n",
       "      <th>4</th>\n",
       "      <td>91942</td>\n",
       "      <td>70677</td>\n",
       "      <td>3837</td>\n",
       "      <td>55753</td>\n",
       "      <td>3194</td>\n",
       "    </tr>\n",
       "  </tbody>\n",
       "</table>\n",
       "</div>"
      ],
      "text/plain": [
       "   zip_code  Mean income  MoE Mean income  Median income  MoE Median income\n",
       "0     91911        62932             2137          51383               1874\n",
       "1     91914       137640             8680         124578               7047\n",
       "2     91915       111918             8589         104170               6753\n",
       "3     91932        59870             2942          48010               1975\n",
       "4     91942        70677             3837          55753               3194"
      ]
     },
     "execution_count": 10,
     "metadata": {},
     "output_type": "execute_result"
    }
   ],
   "source": [
    "income_path = os.path.join('..', 'data', 'census_income_by_zip.csv')\n",
    "income_df = pd.read_csv(income_path)\n",
    "income_df.head()"
   ]
  },
  {
   "cell_type": "markdown",
   "metadata": {},
   "source": [
    "### Number of calls by crime rate of zip"
   ]
  },
  {
   "cell_type": "code",
   "execution_count": null,
   "metadata": {},
   "outputs": [],
   "source": []
  },
  {
   "cell_type": "markdown",
   "metadata": {},
   "source": [
    "### Percent of call types by median household income (stacked bar)"
   ]
  },
  {
   "cell_type": "code",
   "execution_count": null,
   "metadata": {},
   "outputs": [],
   "source": []
  },
  {
   "cell_type": "markdown",
   "metadata": {},
   "source": [
    "### Number of calls by Temperature scatter"
   ]
  },
  {
   "cell_type": "markdown",
   "metadata": {},
   "source": [
    "* calls from 2017-03-11 to 2018-03-10"
   ]
  },
  {
   "cell_type": "code",
   "execution_count": 42,
   "metadata": {},
   "outputs": [
    {
     "data": {
      "text/html": [
       "<div>\n",
       "<style scoped>\n",
       "    .dataframe tbody tr th:only-of-type {\n",
       "        vertical-align: middle;\n",
       "    }\n",
       "\n",
       "    .dataframe tbody tr th {\n",
       "        vertical-align: top;\n",
       "    }\n",
       "\n",
       "    .dataframe thead th {\n",
       "        text-align: right;\n",
       "    }\n",
       "</style>\n",
       "<table border=\"1\" class=\"dataframe\">\n",
       "  <thead>\n",
       "    <tr style=\"text-align: right;\">\n",
       "      <th></th>\n",
       "      <th>date</th>\n",
       "      <th>temp_f</th>\n",
       "      <th>pressure</th>\n",
       "      <th>humidity</th>\n",
       "    </tr>\n",
       "  </thead>\n",
       "  <tbody>\n",
       "    <tr>\n",
       "      <th>0</th>\n",
       "      <td>2017-03-11</td>\n",
       "      <td>61.41</td>\n",
       "      <td>1,016.40</td>\n",
       "      <td>59.76</td>\n",
       "    </tr>\n",
       "    <tr>\n",
       "      <th>1</th>\n",
       "      <td>2017-03-12</td>\n",
       "      <td>58.10</td>\n",
       "      <td>1,016.19</td>\n",
       "      <td>83.98</td>\n",
       "    </tr>\n",
       "    <tr>\n",
       "      <th>2</th>\n",
       "      <td>2017-03-13</td>\n",
       "      <td>58.62</td>\n",
       "      <td>1,016.76</td>\n",
       "      <td>85.24</td>\n",
       "    </tr>\n",
       "    <tr>\n",
       "      <th>3</th>\n",
       "      <td>2017-03-14</td>\n",
       "      <td>61.57</td>\n",
       "      <td>1,017.22</td>\n",
       "      <td>78.06</td>\n",
       "    </tr>\n",
       "    <tr>\n",
       "      <th>4</th>\n",
       "      <td>2017-03-15</td>\n",
       "      <td>65.25</td>\n",
       "      <td>1,018.46</td>\n",
       "      <td>69.46</td>\n",
       "    </tr>\n",
       "  </tbody>\n",
       "</table>\n",
       "</div>"
      ],
      "text/plain": [
       "         date  temp_f  pressure  humidity\n",
       "0  2017-03-11   61.41  1,016.40     59.76\n",
       "1  2017-03-12   58.10  1,016.19     83.98\n",
       "2  2017-03-13   58.62  1,016.76     85.24\n",
       "3  2017-03-14   61.57  1,017.22     78.06\n",
       "4  2017-03-15   65.25  1,018.46     69.46"
      ]
     },
     "execution_count": 42,
     "metadata": {},
     "output_type": "execute_result"
    }
   ],
   "source": [
    "owm_path = os.path.join('..', 'data', 'owm_2016_2018.csv')\n",
    "temp_df = pd.read_csv(owm_path)\n",
    "temp_df['date'] = temp_df['dt_iso'].map(lambda x: reg.sub('\\s\\d{2}:\\d{2}:\\d{2}\\s\\+\\d{4}\\sUTC', '', x))\n",
    "temp_df = temp_df[temp_df['date'] > '2017-03-10']\n",
    "temp_df = temp_df[temp_df['date'] < '2018-03-11']\n",
    "temp_df = temp_df.groupby('date', as_index=False).mean()\n",
    "temp_df.head()"
   ]
  },
  {
   "cell_type": "code",
   "execution_count": 43,
   "metadata": {
    "scrolled": true
   },
   "outputs": [
    {
     "data": {
      "text/html": [
       "<div>\n",
       "<style scoped>\n",
       "    .dataframe tbody tr th:only-of-type {\n",
       "        vertical-align: middle;\n",
       "    }\n",
       "\n",
       "    .dataframe tbody tr th {\n",
       "        vertical-align: top;\n",
       "    }\n",
       "\n",
       "    .dataframe thead th {\n",
       "        text-align: right;\n",
       "    }\n",
       "</style>\n",
       "<table border=\"1\" class=\"dataframe\">\n",
       "  <thead>\n",
       "    <tr style=\"text-align: right;\">\n",
       "      <th></th>\n",
       "      <th>date</th>\n",
       "      <th>service_request_id</th>\n",
       "      <th>status_description</th>\n",
       "      <th>mobile_web_status</th>\n",
       "      <th>duplicate_verified</th>\n",
       "      <th>override_duplicate</th>\n",
       "      <th>functional_location</th>\n",
       "      <th>source</th>\n",
       "      <th>closed_date</th>\n",
       "      <th>updated_datetime</th>\n",
       "      <th>...</th>\n",
       "      <th>sap_problem_category</th>\n",
       "      <th>sap_problem_type</th>\n",
       "      <th>address</th>\n",
       "      <th>case_record_type</th>\n",
       "      <th>district</th>\n",
       "      <th>time</th>\n",
       "      <th>weekday</th>\n",
       "      <th>year</th>\n",
       "      <th>month</th>\n",
       "      <th>day</th>\n",
       "    </tr>\n",
       "  </thead>\n",
       "  <tbody>\n",
       "    <tr>\n",
       "      <th>0</th>\n",
       "      <td>2017-03-11</td>\n",
       "      <td>24</td>\n",
       "      <td>24</td>\n",
       "      <td>24</td>\n",
       "      <td>24</td>\n",
       "      <td>24</td>\n",
       "      <td>24</td>\n",
       "      <td>24</td>\n",
       "      <td>24</td>\n",
       "      <td>24</td>\n",
       "      <td>...</td>\n",
       "      <td>24</td>\n",
       "      <td>24</td>\n",
       "      <td>24</td>\n",
       "      <td>24</td>\n",
       "      <td>24</td>\n",
       "      <td>24</td>\n",
       "      <td>24</td>\n",
       "      <td>24</td>\n",
       "      <td>24</td>\n",
       "      <td>24</td>\n",
       "    </tr>\n",
       "    <tr>\n",
       "      <th>1</th>\n",
       "      <td>2017-03-12</td>\n",
       "      <td>31</td>\n",
       "      <td>31</td>\n",
       "      <td>31</td>\n",
       "      <td>31</td>\n",
       "      <td>31</td>\n",
       "      <td>31</td>\n",
       "      <td>31</td>\n",
       "      <td>31</td>\n",
       "      <td>31</td>\n",
       "      <td>...</td>\n",
       "      <td>31</td>\n",
       "      <td>31</td>\n",
       "      <td>31</td>\n",
       "      <td>31</td>\n",
       "      <td>31</td>\n",
       "      <td>31</td>\n",
       "      <td>31</td>\n",
       "      <td>31</td>\n",
       "      <td>31</td>\n",
       "      <td>31</td>\n",
       "    </tr>\n",
       "    <tr>\n",
       "      <th>2</th>\n",
       "      <td>2017-03-13</td>\n",
       "      <td>75</td>\n",
       "      <td>75</td>\n",
       "      <td>75</td>\n",
       "      <td>75</td>\n",
       "      <td>75</td>\n",
       "      <td>75</td>\n",
       "      <td>75</td>\n",
       "      <td>75</td>\n",
       "      <td>75</td>\n",
       "      <td>...</td>\n",
       "      <td>75</td>\n",
       "      <td>75</td>\n",
       "      <td>75</td>\n",
       "      <td>75</td>\n",
       "      <td>75</td>\n",
       "      <td>75</td>\n",
       "      <td>75</td>\n",
       "      <td>75</td>\n",
       "      <td>75</td>\n",
       "      <td>75</td>\n",
       "    </tr>\n",
       "    <tr>\n",
       "      <th>3</th>\n",
       "      <td>2017-03-14</td>\n",
       "      <td>66</td>\n",
       "      <td>66</td>\n",
       "      <td>66</td>\n",
       "      <td>66</td>\n",
       "      <td>66</td>\n",
       "      <td>66</td>\n",
       "      <td>66</td>\n",
       "      <td>66</td>\n",
       "      <td>66</td>\n",
       "      <td>...</td>\n",
       "      <td>66</td>\n",
       "      <td>66</td>\n",
       "      <td>66</td>\n",
       "      <td>66</td>\n",
       "      <td>66</td>\n",
       "      <td>66</td>\n",
       "      <td>66</td>\n",
       "      <td>66</td>\n",
       "      <td>66</td>\n",
       "      <td>66</td>\n",
       "    </tr>\n",
       "    <tr>\n",
       "      <th>4</th>\n",
       "      <td>2017-03-15</td>\n",
       "      <td>61</td>\n",
       "      <td>61</td>\n",
       "      <td>61</td>\n",
       "      <td>61</td>\n",
       "      <td>61</td>\n",
       "      <td>61</td>\n",
       "      <td>61</td>\n",
       "      <td>61</td>\n",
       "      <td>61</td>\n",
       "      <td>...</td>\n",
       "      <td>61</td>\n",
       "      <td>61</td>\n",
       "      <td>61</td>\n",
       "      <td>61</td>\n",
       "      <td>61</td>\n",
       "      <td>61</td>\n",
       "      <td>61</td>\n",
       "      <td>61</td>\n",
       "      <td>61</td>\n",
       "      <td>61</td>\n",
       "    </tr>\n",
       "  </tbody>\n",
       "</table>\n",
       "<p>5 rows × 28 columns</p>\n",
       "</div>"
      ],
      "text/plain": [
       "         date  service_request_id  status_description  mobile_web_status  \\\n",
       "0  2017-03-11                  24                  24                 24   \n",
       "1  2017-03-12                  31                  31                 31   \n",
       "2  2017-03-13                  75                  75                 75   \n",
       "3  2017-03-14                  66                  66                 66   \n",
       "4  2017-03-15                  61                  61                 61   \n",
       "\n",
       "   duplicate_verified  override_duplicate  functional_location  source  \\\n",
       "0                  24                  24                   24      24   \n",
       "1                  31                  31                   31      31   \n",
       "2                  75                  75                   75      75   \n",
       "3                  66                  66                   66      66   \n",
       "4                  61                  61                   61      61   \n",
       "\n",
       "   closed_date  updated_datetime ...   sap_problem_category  sap_problem_type  \\\n",
       "0           24                24 ...                     24                24   \n",
       "1           31                31 ...                     31                31   \n",
       "2           75                75 ...                     75                75   \n",
       "3           66                66 ...                     66                66   \n",
       "4           61                61 ...                     61                61   \n",
       "\n",
       "   address  case_record_type  district  time  weekday  year  month  day  \n",
       "0       24                24        24    24       24    24     24   24  \n",
       "1       31                31        31    31       31    31     31   31  \n",
       "2       75                75        75    75       75    75     75   75  \n",
       "3       66                66        66    66       66    66     66   66  \n",
       "4       61                61        61    61       61    61     61   61  \n",
       "\n",
       "[5 rows x 28 columns]"
      ]
     },
     "execution_count": 43,
     "metadata": {},
     "output_type": "execute_result"
    }
   ],
   "source": [
    "date_311 = period_311.groupby('date', as_index=False).count()\n",
    "date_311.head()"
   ]
  },
  {
   "cell_type": "code",
   "execution_count": 34,
   "metadata": {},
   "outputs": [
    {
     "data": {
      "text/plain": [
       "<matplotlib.collections.PathCollection at 0x121a37048>"
      ]
     },
     "execution_count": 34,
     "metadata": {},
     "output_type": "execute_result"
    },
    {
     "data": {
      "image/png": "[encoded data removed]",
      "text/plain": [
       "<Figure size 1152x576 with 1 Axes>"
      ]
     },
     "metadata": {},
     "output_type": "display_data"
    }
   ],
   "source": [
    "plt.figure(figsize=[16, 8])\n",
    "plt.scatter(date_311['service_request_id'], temp_df['temp_f'])"
   ]
  },
  {
   "cell_type": "markdown",
   "metadata": {},
   "source": [
    "### Number fo calls by weekday"
   ]
  },
  {
   "cell_type": "code",
   "execution_count": 44,
   "metadata": {},
   "outputs": [
    {
     "data": {
      "text/html": [
       "<div>\n",
       "<style scoped>\n",
       "    .dataframe tbody tr th:only-of-type {\n",
       "        vertical-align: middle;\n",
       "    }\n",
       "\n",
       "    .dataframe tbody tr th {\n",
       "        vertical-align: top;\n",
       "    }\n",
       "\n",
       "    .dataframe thead th {\n",
       "        text-align: right;\n",
       "    }\n",
       "</style>\n",
       "<table border=\"1\" class=\"dataframe\">\n",
       "  <thead>\n",
       "    <tr style=\"text-align: right;\">\n",
       "      <th></th>\n",
       "      <th>weekday</th>\n",
       "      <th>service_request_id</th>\n",
       "      <th>day_order</th>\n",
       "    </tr>\n",
       "  </thead>\n",
       "  <tbody>\n",
       "    <tr>\n",
       "      <th>1</th>\n",
       "      <td>Monday</td>\n",
       "      <td>4871</td>\n",
       "      <td>0</td>\n",
       "    </tr>\n",
       "    <tr>\n",
       "      <th>5</th>\n",
       "      <td>Tuesday</td>\n",
       "      <td>5140</td>\n",
       "      <td>1</td>\n",
       "    </tr>\n",
       "    <tr>\n",
       "      <th>6</th>\n",
       "      <td>Wednesday</td>\n",
       "      <td>5070</td>\n",
       "      <td>2</td>\n",
       "    </tr>\n",
       "    <tr>\n",
       "      <th>4</th>\n",
       "      <td>Thursday</td>\n",
       "      <td>4801</td>\n",
       "      <td>3</td>\n",
       "    </tr>\n",
       "    <tr>\n",
       "      <th>0</th>\n",
       "      <td>Friday</td>\n",
       "      <td>4631</td>\n",
       "      <td>4</td>\n",
       "    </tr>\n",
       "    <tr>\n",
       "      <th>2</th>\n",
       "      <td>Saturday</td>\n",
       "      <td>2688</td>\n",
       "      <td>5</td>\n",
       "    </tr>\n",
       "    <tr>\n",
       "      <th>3</th>\n",
       "      <td>Sunday</td>\n",
       "      <td>2377</td>\n",
       "      <td>6</td>\n",
       "    </tr>\n",
       "  </tbody>\n",
       "</table>\n",
       "</div>"
      ],
      "text/plain": [
       "     weekday  service_request_id  day_order\n",
       "1     Monday                4871          0\n",
       "5    Tuesday                5140          1\n",
       "6  Wednesday                5070          2\n",
       "4   Thursday                4801          3\n",
       "0     Friday                4631          4\n",
       "2   Saturday                2688          5\n",
       "3     Sunday                2377          6"
      ]
     },
     "execution_count": 44,
     "metadata": {},
     "output_type": "execute_result"
    }
   ],
   "source": [
    "days = ['Monday', 'Tuesday', 'Wednesday', 'Thursday', 'Friday', 'Saturday', 'Sunday', ]\n",
    "weekdays = df.groupby('weekday', as_index=False)['service_request_id'].count()\n",
    "weekdays['day_order'] = weekdays['weekday'].map(lambda x: days.index(x))\n",
    "weekdays.sort_values('day_order', inplace=True)\n",
    "weekdays"
   ]
  },
  {
   "cell_type": "code",
   "execution_count": 45,
   "metadata": {},
   "outputs": [
    {
     "data": {
      "text/plain": [
       "<BarContainer object of 7 artists>"
      ]
     },
     "execution_count": 45,
     "metadata": {},
     "output_type": "execute_result"
    },
    {
     "data": {
      "image/png": "[encoded data removed]",
      "text/plain": [
       "<Figure size 1152x576 with 1 Axes>"
      ]
     },
     "metadata": {},
     "output_type": "display_data"
    }
   ],
   "source": [
    "plt.figure(figsize=[16, 8])\n",
    "plt.bar(weekdays['weekday'], weekdays['service_request_id'])"
   ]
  },
  {
   "cell_type": "code",
   "execution_count": null,
   "metadata": {},
   "outputs": [],
   "source": []
  }
 ],
 "metadata": {
  "kernelspec": {
   "display_name": "Python [default]",
   "language": "python",
   "name": "python3"
  },
  "language_info": {
   "codemirror_mode": {
    "name": "ipython",
    "version": 3
   },
   "file_extension": ".py",
   "mimetype": "text/x-python",
   "name": "python",
   "nbconvert_exporter": "python",
   "pygments_lexer": "ipython3",
   "version": "3.5.5"
  }
 },
 "nbformat": 4,
 "nbformat_minor": 2
}
