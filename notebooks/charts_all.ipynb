{
 "cells": [
  {
   "cell_type": "markdown",
   "metadata": {},
   "source": [
    "# Create all charts\n",
    "---"
   ]
  },
  {
   "cell_type": "markdown",
   "metadata": {},
   "source": [
    "## The data sets we used are:\n",
    "* City of San Diego 311 service requests\n",
    "* The San Diego zip codes from the US Census Bureau\n",
    "* Economic census data for San Diego by zipcode from the US Census Bureau\n",
    "* Open Weather Map History for temperature information"
   ]
  },
  {
   "cell_type": "code",
   "execution_count": 1,
   "metadata": {},
   "outputs": [],
   "source": [
    "import os\n",
    "import datetime\n",
    "import numpy as np\n",
    "import regex as reg\n",
    "import pandas as pd\n",
    "import matplotlib.pyplot as plt\n",
    "\n",
    "pd.options.display.float_format = '{:,.2f}'.format"
   ]
  },
  {
   "cell_type": "code",
   "execution_count": 2,
   "metadata": {},
   "outputs": [
    {
     "data": {
      "text/plain": [
       "service_request_id      29578\n",
       "status_description      29578\n",
       "mobile_web_status       29578\n",
       "duplicate_verified      29578\n",
       "override_duplicate      29578\n",
       "functional_location     29578\n",
       "source                  29578\n",
       "closed_date             29578\n",
       "updated_datetime        29578\n",
       "open                    29578\n",
       "closed                  29578\n",
       "description             29578\n",
       "agency_responsible      29578\n",
       "service_name            29578\n",
       "service_subtype         29578\n",
       "lat                     29578\n",
       "long                    29578\n",
       "sap_problem_category    29578\n",
       "sap_problem_type        29578\n",
       "address                 29578\n",
       "case_record_type        29578\n",
       "district                29578\n",
       "date                    29578\n",
       "time                    29578\n",
       "weekday                 29578\n",
       "year                    29578\n",
       "month                   29578\n",
       "day                     29578\n",
       "dtype: int64"
      ]
     },
     "execution_count": 2,
     "metadata": {},
     "output_type": "execute_result"
    }
   ],
   "source": [
    "path_311 = os.path.join('..', 'data', '311_cleaned_data_.csv')\n",
    "df = pd.read_csv(path_311)\n",
    "df.dropna(inplace=True)\n",
    "df.count()"
   ]
  },
  {
   "cell_type": "markdown",
   "metadata": {},
   "source": [
    "### Number of 311 calls by month"
   ]
  },
  {
   "cell_type": "markdown",
   "metadata": {},
   "source": [
    "* calls from 2017-03-11 to 2018-03-10"
   ]
  },
  {
   "cell_type": "code",
   "execution_count": 3,
   "metadata": {},
   "outputs": [],
   "source": [
    "period_311 = df[df['date'] > '2017-03-10']\n",
    "period_311 = period_311[period_311['date'] < '2018-03-11']\n",
    "months = period_311.groupby('month', as_index=False)['service_request_id'].count()\n",
    "months['month'] = months['month'].map(lambda x: datetime.date(1900, int(x), 1).strftime('%B'))"
   ]
  },
  {
   "cell_type": "code",
   "execution_count": 6,
   "metadata": {},
   "outputs": [
    {
     "data": {
      "image/png": "[encoded data removed]",
      "text/plain": [
       "<Figure size 1152x576 with 1 Axes>"
      ]
     },
     "metadata": {},
     "output_type": "display_data"
    }
   ],
   "source": [
    "plt.figure(figsize=[16, 8])\n",
    "plt.bar(months['month'], months['service_request_id'],zorder=2)\n",
    "plt.title('Number of Service Calls per Month')\n",
    "plt.xlabel('Months')\n",
    "plt.ylabel('Number of Service Calls')\n",
    "plt.xticks(rotation=45, ha='right')\n",
    "plt.grid()"
   ]
  },
  {
   "cell_type": "markdown",
   "metadata": {},
   "source": [
    "## Number of 311 Call by Zip Code"
   ]
  },
  {
   "cell_type": "code",
   "execution_count": 12,
   "metadata": {},
   "outputs": [
    {
     "data": {
      "text/html": [
       "<div>\n",
       "<style scoped>\n",
       "    .dataframe tbody tr th:only-of-type {\n",
       "        vertical-align: middle;\n",
       "    }\n",
       "\n",
       "    .dataframe tbody tr th {\n",
       "        vertical-align: top;\n",
       "    }\n",
       "\n",
       "    .dataframe thead th {\n",
       "        text-align: right;\n",
       "    }\n",
       "</style>\n",
       "<table border=\"1\" class=\"dataframe\">\n",
       "  <thead>\n",
       "    <tr style=\"text-align: right;\">\n",
       "      <th></th>\n",
       "      <th>zip_code</th>\n",
       "      <th>Mean income</th>\n",
       "      <th>MoE Mean income</th>\n",
       "      <th>Median income</th>\n",
       "      <th>MoE Median income</th>\n",
       "      <th>total population</th>\n",
       "      <th>service_request_id</th>\n",
       "      <th>status_description</th>\n",
       "      <th>mobile_web_status</th>\n",
       "      <th>duplicate_verified</th>\n",
       "      <th>...</th>\n",
       "      <th>sap_problem_type</th>\n",
       "      <th>address</th>\n",
       "      <th>case_record_type</th>\n",
       "      <th>district</th>\n",
       "      <th>date</th>\n",
       "      <th>time</th>\n",
       "      <th>weekday</th>\n",
       "      <th>year</th>\n",
       "      <th>month</th>\n",
       "      <th>day</th>\n",
       "    </tr>\n",
       "  </thead>\n",
       "  <tbody>\n",
       "    <tr>\n",
       "      <th>0</th>\n",
       "      <td>91911</td>\n",
       "      <td>62932</td>\n",
       "      <td>2137</td>\n",
       "      <td>51383</td>\n",
       "      <td>1874</td>\n",
       "      <td>84241</td>\n",
       "      <td>384,120.00</td>\n",
       "      <td>New</td>\n",
       "      <td>New</td>\n",
       "      <td>0.00</td>\n",
       "      <td>...</td>\n",
       "      <td>NaN</td>\n",
       "      <td>468 Marsh Harbor Dr, San Diego, CA 92154, USA</td>\n",
       "      <td>Parking</td>\n",
       "      <td>8.00</td>\n",
       "      <td>2018-07-29</td>\n",
       "      <td>12:01:00</td>\n",
       "      <td>Sunday</td>\n",
       "      <td>2,018.00</td>\n",
       "      <td>7.00</td>\n",
       "      <td>29.00</td>\n",
       "    </tr>\n",
       "    <tr>\n",
       "      <th>1</th>\n",
       "      <td>91911</td>\n",
       "      <td>62932</td>\n",
       "      <td>2137</td>\n",
       "      <td>51383</td>\n",
       "      <td>1874</td>\n",
       "      <td>84241</td>\n",
       "      <td>371,242.00</td>\n",
       "      <td>Assigned</td>\n",
       "      <td>In Process</td>\n",
       "      <td>0.00</td>\n",
       "      <td>...</td>\n",
       "      <td>NaN</td>\n",
       "      <td>3661 Palm Ave, San Diego, CA 92154, USA</td>\n",
       "      <td>Street Division</td>\n",
       "      <td>8.00</td>\n",
       "      <td>2018-07-28</td>\n",
       "      <td>21:16:00</td>\n",
       "      <td>Saturday</td>\n",
       "      <td>2,018.00</td>\n",
       "      <td>7.00</td>\n",
       "      <td>28.00</td>\n",
       "    </tr>\n",
       "    <tr>\n",
       "      <th>2</th>\n",
       "      <td>91911</td>\n",
       "      <td>62932</td>\n",
       "      <td>2137</td>\n",
       "      <td>51383</td>\n",
       "      <td>1874</td>\n",
       "      <td>84241</td>\n",
       "      <td>370,923.00</td>\n",
       "      <td>Acknowledged</td>\n",
       "      <td>In Process</td>\n",
       "      <td>0.00</td>\n",
       "      <td>...</td>\n",
       "      <td>NaN</td>\n",
       "      <td>5192 TOPSIDE LANE</td>\n",
       "      <td>Street Division</td>\n",
       "      <td>8.00</td>\n",
       "      <td>2018-07-27</td>\n",
       "      <td>09:35:00</td>\n",
       "      <td>Friday</td>\n",
       "      <td>2,018.00</td>\n",
       "      <td>7.00</td>\n",
       "      <td>27.00</td>\n",
       "    </tr>\n",
       "    <tr>\n",
       "      <th>3</th>\n",
       "      <td>91911</td>\n",
       "      <td>62932</td>\n",
       "      <td>2137</td>\n",
       "      <td>51383</td>\n",
       "      <td>1874</td>\n",
       "      <td>84241</td>\n",
       "      <td>370,790.00</td>\n",
       "      <td>Duplicate</td>\n",
       "      <td>In Process</td>\n",
       "      <td>0.00</td>\n",
       "      <td>...</td>\n",
       "      <td>NaN</td>\n",
       "      <td>2758 AGNO CT, 92154</td>\n",
       "      <td>Storm Water Code Enforcement</td>\n",
       "      <td>8.00</td>\n",
       "      <td>2018-07-26</td>\n",
       "      <td>12:05:00</td>\n",
       "      <td>Thursday</td>\n",
       "      <td>2,018.00</td>\n",
       "      <td>7.00</td>\n",
       "      <td>26.00</td>\n",
       "    </tr>\n",
       "    <tr>\n",
       "      <th>4</th>\n",
       "      <td>91911</td>\n",
       "      <td>62932</td>\n",
       "      <td>2137</td>\n",
       "      <td>51383</td>\n",
       "      <td>1874</td>\n",
       "      <td>84241</td>\n",
       "      <td>370,789.00</td>\n",
       "      <td>Duplicate</td>\n",
       "      <td>In Process</td>\n",
       "      <td>0.00</td>\n",
       "      <td>...</td>\n",
       "      <td>NaN</td>\n",
       "      <td>2758 AGNO CT, 92154</td>\n",
       "      <td>Storm Water Code Enforcement</td>\n",
       "      <td>8.00</td>\n",
       "      <td>2018-07-26</td>\n",
       "      <td>12:05:00</td>\n",
       "      <td>Thursday</td>\n",
       "      <td>2,018.00</td>\n",
       "      <td>7.00</td>\n",
       "      <td>26.00</td>\n",
       "    </tr>\n",
       "  </tbody>\n",
       "</table>\n",
       "<p>5 rows × 34 columns</p>\n",
       "</div>"
      ],
      "text/plain": [
       "   zip_code  Mean income  MoE Mean income  Median income  MoE Median income  \\\n",
       "0     91911        62932             2137          51383               1874   \n",
       "1     91911        62932             2137          51383               1874   \n",
       "2     91911        62932             2137          51383               1874   \n",
       "3     91911        62932             2137          51383               1874   \n",
       "4     91911        62932             2137          51383               1874   \n",
       "\n",
       "   total population  service_request_id status_description mobile_web_status  \\\n",
       "0             84241          384,120.00                New               New   \n",
       "1             84241          371,242.00           Assigned        In Process   \n",
       "2             84241          370,923.00       Acknowledged        In Process   \n",
       "3             84241          370,790.00          Duplicate        In Process   \n",
       "4             84241          370,789.00          Duplicate        In Process   \n",
       "\n",
       "   duplicate_verified  ...   sap_problem_type  \\\n",
       "0                0.00  ...                NaN   \n",
       "1                0.00  ...                NaN   \n",
       "2                0.00  ...                NaN   \n",
       "3                0.00  ...                NaN   \n",
       "4                0.00  ...                NaN   \n",
       "\n",
       "                                         address  \\\n",
       "0  468 Marsh Harbor Dr, San Diego, CA 92154, USA   \n",
       "1        3661 Palm Ave, San Diego, CA 92154, USA   \n",
       "2                              5192 TOPSIDE LANE   \n",
       "3                            2758 AGNO CT, 92154   \n",
       "4                            2758 AGNO CT, 92154   \n",
       "\n",
       "               case_record_type district        date      time   weekday  \\\n",
       "0                       Parking     8.00  2018-07-29  12:01:00    Sunday   \n",
       "1               Street Division     8.00  2018-07-28  21:16:00  Saturday   \n",
       "2               Street Division     8.00  2018-07-27  09:35:00    Friday   \n",
       "3  Storm Water Code Enforcement     8.00  2018-07-26  12:05:00  Thursday   \n",
       "4  Storm Water Code Enforcement     8.00  2018-07-26  12:05:00  Thursday   \n",
       "\n",
       "      year month   day  \n",
       "0 2,018.00  7.00 29.00  \n",
       "1 2,018.00  7.00 28.00  \n",
       "2 2,018.00  7.00 27.00  \n",
       "3 2,018.00  7.00 26.00  \n",
       "4 2,018.00  7.00 26.00  \n",
       "\n",
       "[5 rows x 34 columns]"
      ]
     },
     "execution_count": 12,
     "metadata": {},
     "output_type": "execute_result"
    }
   ],
   "source": [
    "final_311_path = os.path.join('..','data','final_311.csv')\n",
    "final_311_df = pd.read_csv(final_311_path)\n",
    "final_311_df.head()"
   ]
  },
  {
   "cell_type": "code",
   "execution_count": 68,
   "metadata": {},
   "outputs": [],
   "source": [
    "zip_service = final_311_df.groupby('zip_code')['service_request_id'].count().sort_values(ascending=False)\n",
    "# zip_service"
   ]
  },
  {
   "cell_type": "code",
   "execution_count": 70,
   "metadata": {},
   "outputs": [
    {
     "data": {
      "image/png": "[encoded data removed]",
      "text/plain": [
       "<Figure size 1152x576 with 1 Axes>"
      ]
     },
     "metadata": {},
     "output_type": "display_data"
    }
   ],
   "source": [
    "fig, ax = plt.subplots(figsize=[16, 8])\n",
    "zip_service_plt = zip_service.plot(kind='bar', color='green',alpha =0.75)\n",
    "plt.xlabel('Zip Code',fontsize=16,labelpad=16)\n",
    "plt.ylabel('Number of Service Calls',fontsize=16,labelpad=16)\n",
    "plt.title('Number of 311 Call by Zip Code',fontsize=18,pad=16)\n",
    "plt.xticks(rotation=60, ha='right')\n",
    "plt.savefig(os.path.join('..','figures','number_of_311_call_by_zip_code.png'))"
   ]
  },
  {
   "cell_type": "code",
   "execution_count": null,
   "metadata": {},
   "outputs": [],
   "source": []
  },
  {
   "cell_type": "code",
   "execution_count": null,
   "metadata": {},
   "outputs": [],
   "source": []
  },
  {
   "cell_type": "markdown",
   "metadata": {},
   "source": [
    "### Number of 311 calls by type"
   ]
  },
  {
   "cell_type": "markdown",
   "metadata": {},
   "source": [
    "* Garrett is working on this"
   ]
  },
  {
   "cell_type": "code",
   "execution_count": 9,
   "metadata": {},
   "outputs": [
    {
     "data": {
      "image/png": "[encoded data removed]",
      "text/plain": [
       "<Figure size 1152x576 with 1 Axes>"
      ]
     },
     "metadata": {},
     "output_type": "display_data"
    }
   ],
   "source": [
    "service = df.groupby('service_subtype')['service_request_id'].count().sort_values().tail(20)\n",
    "fig, ax = plt.subplots(figsize=[16, 8])\n",
    "service.plot.bar(zorder=2)\n",
    "plt.xticks(rotation=70, ha='right')\n",
    "plt.grid()"
   ]
  },
  {
   "cell_type": "markdown",
   "metadata": {},
   "source": [
    "### breakdown of percentage of call categories"
   ]
  },
  {
   "cell_type": "markdown",
   "metadata": {},
   "source": [
    "### locations of callers (bubble plot?)"
   ]
  },
  {
   "cell_type": "code",
   "execution_count": null,
   "metadata": {},
   "outputs": [],
   "source": []
  },
  {
   "cell_type": "markdown",
   "metadata": {},
   "source": [
    "### Number of calls per capita by zipcode"
   ]
  },
  {
   "cell_type": "code",
   "execution_count": 9,
   "metadata": {},
   "outputs": [
    {
     "data": {
      "text/html": [
       "<div>\n",
       "<style scoped>\n",
       "    .dataframe tbody tr th:only-of-type {\n",
       "        vertical-align: middle;\n",
       "    }\n",
       "\n",
       "    .dataframe tbody tr th {\n",
       "        vertical-align: top;\n",
       "    }\n",
       "\n",
       "    .dataframe thead th {\n",
       "        text-align: right;\n",
       "    }\n",
       "</style>\n",
       "<table border=\"1\" class=\"dataframe\">\n",
       "  <thead>\n",
       "    <tr style=\"text-align: right;\">\n",
       "      <th></th>\n",
       "      <th>zip_code</th>\n",
       "      <th>total population</th>\n",
       "    </tr>\n",
       "  </thead>\n",
       "  <tbody>\n",
       "    <tr>\n",
       "      <th>0</th>\n",
       "      <td>91901</td>\n",
       "      <td>18586</td>\n",
       "    </tr>\n",
       "    <tr>\n",
       "      <th>1</th>\n",
       "      <td>91902</td>\n",
       "      <td>19429</td>\n",
       "    </tr>\n",
       "    <tr>\n",
       "      <th>2</th>\n",
       "      <td>91905</td>\n",
       "      <td>1539</td>\n",
       "    </tr>\n",
       "    <tr>\n",
       "      <th>3</th>\n",
       "      <td>91906</td>\n",
       "      <td>3565</td>\n",
       "    </tr>\n",
       "    <tr>\n",
       "      <th>4</th>\n",
       "      <td>91910</td>\n",
       "      <td>76027</td>\n",
       "    </tr>\n",
       "  </tbody>\n",
       "</table>\n",
       "</div>"
      ],
      "text/plain": [
       "   zip_code  total population\n",
       "0     91901             18586\n",
       "1     91902             19429\n",
       "2     91905              1539\n",
       "3     91906              3565\n",
       "4     91910             76027"
      ]
     },
     "execution_count": 9,
     "metadata": {},
     "output_type": "execute_result"
    }
   ],
   "source": [
    "pop_path = os.path.join('..', 'data', 'census_population_by_zip.csv')\n",
    "pop_df = pd.read_csv(pop_path)\n",
    "pop_df.head()"
   ]
  },
  {
   "cell_type": "markdown",
   "metadata": {},
   "source": [
    "### Number of calls by median household income of zip"
   ]
  },
  {
   "cell_type": "code",
   "execution_count": 10,
   "metadata": {},
   "outputs": [
    {
     "data": {
      "text/html": [
       "<div>\n",
       "<style scoped>\n",
       "    .dataframe tbody tr th:only-of-type {\n",
       "        vertical-align: middle;\n",
       "    }\n",
       "\n",
       "    .dataframe tbody tr th {\n",
       "        vertical-align: top;\n",
       "    }\n",
       "\n",
       "    .dataframe thead th {\n",
       "        text-align: right;\n",
       "    }\n",
       "</style>\n",
       "<table border=\"1\" class=\"dataframe\">\n",
       "  <thead>\n",
       "    <tr style=\"text-align: right;\">\n",
       "      <th></th>\n",
       "      <th>zip_code</th>\n",
       "      <th>Mean income</th>\n",
       "      <th>MoE Mean income</th>\n",
       "      <th>Median income</th>\n",
       "      <th>MoE Median income</th>\n",
       "    </tr>\n",
       "  </thead>\n",
       "  <tbody>\n",
       "    <tr>\n",
       "      <th>0</th>\n",
       "      <td>91911</td>\n",
       "      <td>62932</td>\n",
       "      <td>2137</td>\n",
       "      <td>51383</td>\n",
       "      <td>1874</td>\n",
       "    </tr>\n",
       "    <tr>\n",
       "      <th>1</th>\n",
       "      <td>91914</td>\n",
       "      <td>137640</td>\n",
       "      <td>8680</td>\n",
       "      <td>124578</td>\n",
       "      <td>7047</td>\n",
       "    </tr>\n",
       "    <tr>\n",
       "      <th>2</th>\n",
       "      <td>91915</td>\n",
       "      <td>111918</td>\n",
       "      <td>8589</td>\n",
       "      <td>104170</td>\n",
       "      <td>6753</td>\n",
       "    </tr>\n",
       "    <tr>\n",
       "      <th>3</th>\n",
       "      <td>91932</td>\n",
       "      <td>59870</td>\n",
       "      <td>2942</td>\n",
       "      <td>48010</td>\n",
       "      <td>1975</td>\n",
       "    </tr>\n",
       "    <tr>\n",
       "      <th>4</th>\n",
       "      <td>91942</td>\n",
       "      <td>70677</td>\n",
       "      <td>3837</td>\n",
       "      <td>55753</td>\n",
       "      <td>3194</td>\n",
       "    </tr>\n",
       "  </tbody>\n",
       "</table>\n",
       "</div>"
      ],
      "text/plain": [
       "   zip_code  Mean income  MoE Mean income  Median income  MoE Median income\n",
       "0     91911        62932             2137          51383               1874\n",
       "1     91914       137640             8680         124578               7047\n",
       "2     91915       111918             8589         104170               6753\n",
       "3     91932        59870             2942          48010               1975\n",
       "4     91942        70677             3837          55753               3194"
      ]
     },
     "execution_count": 10,
     "metadata": {},
     "output_type": "execute_result"
    }
   ],
   "source": [
    "income_path = os.path.join('..', 'data', 'census_income_by_zip.csv')\n",
    "income_df = pd.read_csv(income_path)\n",
    "income_df.head()"
   ]
  },
  {
   "cell_type": "markdown",
   "metadata": {},
   "source": [
    "### Number of calls by crime rate of zip"
   ]
  },
  {
   "cell_type": "code",
   "execution_count": null,
   "metadata": {},
   "outputs": [],
   "source": []
  },
  {
   "cell_type": "markdown",
   "metadata": {},
   "source": [
    "### Percent of call types by median household income (stacked bar)"
   ]
  },
  {
   "cell_type": "code",
   "execution_count": null,
   "metadata": {},
   "outputs": [],
   "source": []
  },
  {
   "cell_type": "markdown",
   "metadata": {},
   "source": [
    "### Number of calls by Temperature scatter"
   ]
  },
  {
   "cell_type": "markdown",
   "metadata": {},
   "source": [
    "* calls from 2017-03-11 to 2018-03-10"
   ]
  },
  {
   "cell_type": "code",
   "execution_count": 47,
   "metadata": {},
   "outputs": [],
   "source": [
    "owm_path = os.path.join('..', 'data', 'owm_2016_2018.csv')\n",
    "temp_df = pd.read_csv(owm_path)\n",
    "temp_df['date'] = temp_df['dt_iso'].map(lambda x: reg.sub('\\s\\d{2}:\\d{2}:\\d{2}\\s\\+\\d{4}\\sUTC', '', x))\n",
    "temp_df = temp_df[temp_df['date'] > '2017-03-10']\n",
    "temp_df = temp_df[temp_df['date'] < '2018-03-11']\n",
    "temp_df = temp_df.groupby('date', as_index=False).mean()"
   ]
  },
  {
   "cell_type": "code",
   "execution_count": 46,
   "metadata": {
    "scrolled": true
   },
   "outputs": [],
   "source": [
    "date_311 = period_311.groupby('date', as_index=False).count()"
   ]
  },
  {
   "cell_type": "code",
   "execution_count": 50,
   "metadata": {},
   "outputs": [
    {
     "data": {
      "text/plain": [
       "Text(0,0.5,'Temperature in Fahrenheit')"
      ]
     },
     "execution_count": 50,
     "metadata": {},
     "output_type": "execute_result"
    },
    {
     "data": {
      "image/png": "[encoded data removed]",
      "text/plain": [
       "<Figure size 1152x576 with 1 Axes>"
      ]
     },
     "metadata": {},
     "output_type": "display_data"
    }
   ],
   "source": [
    "plt.figure(figsize=[16, 8])\n",
    "plt.scatter(date_311['service_request_id'], temp_df['temp_f'])\n",
    "plt.title('Call Frequency by Temperature')\n",
    "plt.xlabel('Number of Calls')\n",
    "plt.ylabel('Temperature in Fahrenheit')"
   ]
  },
  {
   "cell_type": "markdown",
   "metadata": {},
   "source": [
    "### Number fo calls by weekday"
   ]
  },
  {
   "cell_type": "code",
   "execution_count": 44,
   "metadata": {},
   "outputs": [
    {
     "data": {
      "text/html": [
       "<div>\n",
       "<style scoped>\n",
       "    .dataframe tbody tr th:only-of-type {\n",
       "        vertical-align: middle;\n",
       "    }\n",
       "\n",
       "    .dataframe tbody tr th {\n",
       "        vertical-align: top;\n",
       "    }\n",
       "\n",
       "    .dataframe thead th {\n",
       "        text-align: right;\n",
       "    }\n",
       "</style>\n",
       "<table border=\"1\" class=\"dataframe\">\n",
       "  <thead>\n",
       "    <tr style=\"text-align: right;\">\n",
       "      <th></th>\n",
       "      <th>weekday</th>\n",
       "      <th>service_request_id</th>\n",
       "      <th>day_order</th>\n",
       "    </tr>\n",
       "  </thead>\n",
       "  <tbody>\n",
       "    <tr>\n",
       "      <th>1</th>\n",
       "      <td>Monday</td>\n",
       "      <td>4871</td>\n",
       "      <td>0</td>\n",
       "    </tr>\n",
       "    <tr>\n",
       "      <th>5</th>\n",
       "      <td>Tuesday</td>\n",
       "      <td>5140</td>\n",
       "      <td>1</td>\n",
       "    </tr>\n",
       "    <tr>\n",
       "      <th>6</th>\n",
       "      <td>Wednesday</td>\n",
       "      <td>5070</td>\n",
       "      <td>2</td>\n",
       "    </tr>\n",
       "    <tr>\n",
       "      <th>4</th>\n",
       "      <td>Thursday</td>\n",
       "      <td>4801</td>\n",
       "      <td>3</td>\n",
       "    </tr>\n",
       "    <tr>\n",
       "      <th>0</th>\n",
       "      <td>Friday</td>\n",
       "      <td>4631</td>\n",
       "      <td>4</td>\n",
       "    </tr>\n",
       "    <tr>\n",
       "      <th>2</th>\n",
       "      <td>Saturday</td>\n",
       "      <td>2688</td>\n",
       "      <td>5</td>\n",
       "    </tr>\n",
       "    <tr>\n",
       "      <th>3</th>\n",
       "      <td>Sunday</td>\n",
       "      <td>2377</td>\n",
       "      <td>6</td>\n",
       "    </tr>\n",
       "  </tbody>\n",
       "</table>\n",
       "</div>"
      ],
      "text/plain": [
       "     weekday  service_request_id  day_order\n",
       "1     Monday                4871          0\n",
       "5    Tuesday                5140          1\n",
       "6  Wednesday                5070          2\n",
       "4   Thursday                4801          3\n",
       "0     Friday                4631          4\n",
       "2   Saturday                2688          5\n",
       "3     Sunday                2377          6"
      ]
     },
     "execution_count": 44,
     "metadata": {},
     "output_type": "execute_result"
    }
   ],
   "source": [
    "days = ['Monday', 'Tuesday', 'Wednesday', 'Thursday', 'Friday', 'Saturday', 'Sunday', ]\n",
    "weekdays = df.groupby('weekday', as_index=False)['service_request_id'].count()\n",
    "weekdays['day_order'] = weekdays['weekday'].map(lambda x: days.index(x))\n",
    "weekdays.sort_values('day_order', inplace=True)\n",
    "weekdays"
   ]
  },
  {
   "cell_type": "code",
   "execution_count": 51,
   "metadata": {},
   "outputs": [
    {
     "data": {
      "text/plain": [
       "Text(0,0.5,'Number of Calls')"
      ]
     },
     "execution_count": 51,
     "metadata": {},
     "output_type": "execute_result"
    },
    {
     "data": {
      "image/png": "[encoded data removed]",
      "text/plain": [
       "<Figure size 1152x576 with 1 Axes>"
      ]
     },
     "metadata": {},
     "output_type": "display_data"
    }
   ],
   "source": [
    "plt.figure(figsize=[16, 8])\n",
    "plt.bar(weekdays['weekday'], weekdays['service_request_id'])\n",
    "plt.title('Calls by Day of the Week')\n",
    "plt.xlabel('Day of the Week')\n",
    "plt.ylabel('Number of Calls')"
   ]
  },
  {
   "cell_type": "code",
   "execution_count": null,
   "metadata": {},
   "outputs": [],
   "source": []
  }
 ],
 "metadata": {
  "kernelspec": {
   "display_name": "Python [default]",
   "language": "python",
   "name": "python3"
  },
  "language_info": {
   "codemirror_mode": {
    "name": "ipython",
    "version": 3
   },
   "file_extension": ".py",
   "mimetype": "text/x-python",
   "name": "python",
   "nbconvert_exporter": "python",
   "pygments_lexer": "ipython3",
   "version": "3.6.5"
  }
 },
 "nbformat": 4,
 "nbformat_minor": 2
}
