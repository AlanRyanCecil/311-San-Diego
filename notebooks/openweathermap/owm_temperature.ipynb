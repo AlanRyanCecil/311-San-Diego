{
 "cells": [
  {
   "cell_type": "markdown",
   "metadata": {},
   "source": [
    "### Get temperatures for every day from May 2016 through July 2018\n",
    " * date range of the 311 dataset 2016-05-20T07:19:00 - 2018-07-29T12:01:00"
   ]
  },
  {
   "cell_type": "code",
   "execution_count": 1,
   "metadata": {},
   "outputs": [],
   "source": [
    "from datetime import datetime as dt\n",
    "import openweathermapy.core as owm\n",
    "import matplotlib.pyplot as plt\n",
    "import pandas as pd\n",
    "import os\n",
    "\n",
    "from config import api_key"
   ]
  },
  {
   "cell_type": "code",
   "execution_count": 2,
   "metadata": {},
   "outputs": [],
   "source": [
    "settings = {'units': 'imperial', 'appid': api_key,}"
   ]
  },
  {
   "cell_type": "code",
   "execution_count": 3,
   "metadata": {},
   "outputs": [],
   "source": [
    "# define time period\n",
    "start_date = dt(2016, 5, 1).timestamp()\n",
    "end_date = dt(2018, 7, 30).timestamp()"
   ]
  },
  {
   "cell_type": "code",
   "execution_count": 4,
   "metadata": {},
   "outputs": [],
   "source": [
    "owm_path = os.path.join('..', '..', 'raw', 'owm_sandiego_2013_2018.csv')\n",
    "df_raw = pd.read_csv(owm_path)"
   ]
  },
  {
   "cell_type": "code",
   "execution_count": 5,
   "metadata": {},
   "outputs": [],
   "source": [
    "df = df_raw.loc[(df_raw['dt'] >= start_date) & (df_raw['dt'] <= end_date)]"
   ]
  },
  {
   "cell_type": "code",
   "execution_count": 6,
   "metadata": {},
   "outputs": [
    {
     "data": {
      "text/plain": [
       "Index(['dt', 'dt_iso', 'city_id', 'city_name', 'lat', 'lon', 'temp',\n",
       "       'temp_min', 'temp_max', 'pressure', 'sea_level', 'grnd_level',\n",
       "       'humidity', 'wind_speed', 'wind_deg', 'rain_1h', 'rain_3h', 'rain_24h',\n",
       "       'rain_today', 'snow_1h', 'snow_3h', 'snow_24h', 'snow_today',\n",
       "       'clouds_all', 'weather_id', 'weather_main', 'weather_description',\n",
       "       'weather_icon'],\n",
       "      dtype='object')"
      ]
     },
     "execution_count": 6,
     "metadata": {},
     "output_type": "execute_result"
    }
   ],
   "source": [
    "df.columns"
   ]
  },
  {
   "cell_type": "code",
   "execution_count": 7,
   "metadata": {},
   "outputs": [],
   "source": [
    "df = df[['dt_iso', 'temp', 'pressure', 'humidity', 'weather_main']]"
   ]
  },
  {
   "cell_type": "code",
   "execution_count": 8,
   "metadata": {},
   "outputs": [],
   "source": [
    "def k_to_f(k):\n",
    "    return round((k * (9 / 5)) - 459.67, 2)\n",
    "\n"
   ]
  },
  {
   "cell_type": "code",
   "execution_count": 9,
   "metadata": {},
   "outputs": [],
   "source": [
    "df['temp'] = df['temp'].apply(k_to_f)\n",
    "df.rename(columns={'temp': 'temp_f'}, inplace=True)"
   ]
  },
  {
   "cell_type": "code",
   "execution_count": 10,
   "metadata": {
    "scrolled": true
   },
   "outputs": [
    {
     "data": {
      "text/plain": [
       "count    22958.000000\n",
       "mean        63.470167\n",
       "std          9.265817\n",
       "min         28.940000\n",
       "25%         57.040000\n",
       "50%         62.870000\n",
       "75%         69.280000\n",
       "max        104.380000\n",
       "Name: temp_f, dtype: float64"
      ]
     },
     "execution_count": 10,
     "metadata": {},
     "output_type": "execute_result"
    }
   ],
   "source": [
    "df['temp_f'].describe()"
   ]
  },
  {
   "cell_type": "code",
   "execution_count": 11,
   "metadata": {},
   "outputs": [],
   "source": [
    "out_path = os.path.join('..', '..', 'data', 'owm_2016_2018.csv')\n",
    "df.to_csv(out_path, index=False)"
   ]
  },
  {
   "cell_type": "code",
   "execution_count": 12,
   "metadata": {
    "scrolled": true
   },
   "outputs": [
    {
     "data": {
      "text/html": [
       "<div>\n",
       "<style scoped>\n",
       "    .dataframe tbody tr th:only-of-type {\n",
       "        vertical-align: middle;\n",
       "    }\n",
       "\n",
       "    .dataframe tbody tr th {\n",
       "        vertical-align: top;\n",
       "    }\n",
       "\n",
       "    .dataframe thead th {\n",
       "        text-align: right;\n",
       "    }\n",
       "</style>\n",
       "<table border=\"1\" class=\"dataframe\">\n",
       "  <thead>\n",
       "    <tr style=\"text-align: right;\">\n",
       "      <th></th>\n",
       "      <th>dt_iso</th>\n",
       "      <th>temp_f</th>\n",
       "      <th>pressure</th>\n",
       "      <th>humidity</th>\n",
       "      <th>weather_main</th>\n",
       "    </tr>\n",
       "  </thead>\n",
       "  <tbody>\n",
       "    <tr>\n",
       "      <th>13827</th>\n",
       "      <td>2016-05-01 07:00:00 +0000 UTC</td>\n",
       "      <td>54.37</td>\n",
       "      <td>1012</td>\n",
       "      <td>72</td>\n",
       "      <td>Clouds</td>\n",
       "    </tr>\n",
       "    <tr>\n",
       "      <th>13828</th>\n",
       "      <td>2016-05-01 08:00:00 +0000 UTC</td>\n",
       "      <td>53.69</td>\n",
       "      <td>1012</td>\n",
       "      <td>72</td>\n",
       "      <td>Haze</td>\n",
       "    </tr>\n",
       "    <tr>\n",
       "      <th>13829</th>\n",
       "      <td>2016-05-01 09:00:00 +0000 UTC</td>\n",
       "      <td>52.63</td>\n",
       "      <td>1012</td>\n",
       "      <td>72</td>\n",
       "      <td>Haze</td>\n",
       "    </tr>\n",
       "    <tr>\n",
       "      <th>13830</th>\n",
       "      <td>2016-05-01 09:00:00 +0000 UTC</td>\n",
       "      <td>52.63</td>\n",
       "      <td>1012</td>\n",
       "      <td>72</td>\n",
       "      <td>Mist</td>\n",
       "    </tr>\n",
       "    <tr>\n",
       "      <th>13831</th>\n",
       "      <td>2016-05-01 10:00:00 +0000 UTC</td>\n",
       "      <td>51.84</td>\n",
       "      <td>1011</td>\n",
       "      <td>77</td>\n",
       "      <td>Mist</td>\n",
       "    </tr>\n",
       "  </tbody>\n",
       "</table>\n",
       "</div>"
      ],
      "text/plain": [
       "                              dt_iso  temp_f  pressure  humidity weather_main\n",
       "13827  2016-05-01 07:00:00 +0000 UTC   54.37      1012        72       Clouds\n",
       "13828  2016-05-01 08:00:00 +0000 UTC   53.69      1012        72         Haze\n",
       "13829  2016-05-01 09:00:00 +0000 UTC   52.63      1012        72         Haze\n",
       "13830  2016-05-01 09:00:00 +0000 UTC   52.63      1012        72         Mist\n",
       "13831  2016-05-01 10:00:00 +0000 UTC   51.84      1011        77         Mist"
      ]
     },
     "execution_count": 12,
     "metadata": {},
     "output_type": "execute_result"
    }
   ],
   "source": [
    "df.head()"
   ]
  },
  {
   "cell_type": "code",
   "execution_count": 13,
   "metadata": {},
   "outputs": [
    {
     "data": {
      "text/plain": [
       "dt_iso          22958\n",
       "temp_f          22958\n",
       "pressure        22958\n",
       "humidity        22958\n",
       "weather_main    22958\n",
       "dtype: int64"
      ]
     },
     "execution_count": 13,
     "metadata": {},
     "output_type": "execute_result"
    }
   ],
   "source": [
    "df.count()"
   ]
  },
  {
   "cell_type": "code",
   "execution_count": 14,
   "metadata": {},
   "outputs": [],
   "source": [
    "short = df.head(10)"
   ]
  },
  {
   "cell_type": "code",
   "execution_count": 15,
   "metadata": {},
   "outputs": [],
   "source": [
    "def scatter_format(x, y):\n",
    "    xtitle = x.title()\n",
    "    ytitle = y.title()\n",
    "    plot_title = '_'.join([xtitle, 'by', ytitle])\n",
    "    \n",
    "    x_lims = [min(df[x]) - 5, max(df[x]) + 5]\n",
    "    plt_width = sum(map(abs, x_lims))\n",
    "    \n",
    "    fig, ax = plt.subplots(figsize=[16, 8])\n",
    "    ax.scatter(df[x], df[y], s=10, c='#323232', zorder=2)\n",
    "    plt.xlim(x_lims)\n",
    "    plt.ylim(lat_range)\n",
    "    plt.yticks(np.arange(lat_range[0], lat_range[1] + 1, 30))\n",
    "    plt.title(plot_title.replace('_', ' '), fontsize=32, pad=32)\n",
    "    \n",
    "    label_size = 24\n",
    "    plt.xlabel(xtitle, fontsize=label_size, labelpad=label_size)\n",
    "    plt.ylabel(ytitle, fontsize=label_size, labelpad=label_size)\n",
    "    \n",
    "    BG = plt.imread(os.path.join('resource', 'equidistant_cylindrical.png'))\n",
    "    plt.imshow(BG, aspect='auto', alpha=0.5, extent=(x_lims + lat_range))\n",
    "    \n",
    "    note = ('* point positions over background'\n",
    "            + ' map reflect latitude only')\n",
    "    \n",
    "    plt.text(1, -0.1, note, transform=ax.transAxes, ha='right')\n",
    "    \n",
    "    figure_file_name = os.path.join(fig_out, plot_title.lower())\n",
    "    plt.savefig(figure_file_name)\n",
    "    \n",
    "    "
   ]
  },
  {
   "cell_type": "code",
   "execution_count": 16,
   "metadata": {},
   "outputs": [
    {
     "data": {
      "text/plain": [
       "[<matplotlib.lines.Line2D at 0x1204bc630>]"
      ]
     },
     "execution_count": 16,
     "metadata": {},
     "output_type": "execute_result"
    },
    {
     "data": {
      "image/png": "[encoded data removed]",
      "text/plain": [
       "<Figure size 1152x576 with 1 Axes>"
      ]
     },
     "metadata": {},
     "output_type": "display_data"
    }
   ],
   "source": [
    "fig, ax = plt.subplots(figsize=[16, 8])\n",
    "ax.plot(short['dt_iso'], short['temp_f'])"
   ]
  },
  {
   "cell_type": "code",
   "execution_count": null,
   "metadata": {},
   "outputs": [],
   "source": []
  }
 ],
 "metadata": {
  "kernelspec": {
   "display_name": "Python [conda env:PythonData]",
   "language": "python",
   "name": "conda-env-PythonData-py"
  },
  "language_info": {
   "codemirror_mode": {
    "name": "ipython",
    "version": 3
   },
   "file_extension": ".py",
   "mimetype": "text/x-python",
   "name": "python",
   "nbconvert_exporter": "python",
   "pygments_lexer": "ipython3",
   "version": "3.5.5"
  }
 },
 "nbformat": 4,
 "nbformat_minor": 2
}
