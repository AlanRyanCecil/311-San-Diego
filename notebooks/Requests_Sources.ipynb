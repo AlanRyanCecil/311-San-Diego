{
 "cells": [
  {
   "cell_type": "code",
   "execution_count": null,
   "metadata": {},
   "outputs": [],
   "source": [
    "import os\n",
    "import pandas as pd\n",
    "import numpy as np\n",
    "import matplotlib.pyplot as plt\n",
    "from pprint import pprint\n",
    "import csv\n",
    "\n",
    "plt.style.use('fivethirtyeight')"
   ]
  },
  {
   "cell_type": "code",
   "execution_count": null,
   "metadata": {},
   "outputs": [],
   "source": [
    "file = os.path.join('..', 'data', 'final_311.csv')\n",
    "\n",
    "Requests_df = pd.read_csv(file)\n",
    "#Requests_df[\"source\"]"
   ]
  },
  {
   "cell_type": "code",
   "execution_count": null,
   "metadata": {},
   "outputs": [],
   "source": [
    "Requests_df[\"source\"].value_counts()"
   ]
  },
  {
   "cell_type": "code",
   "execution_count": null,
   "metadata": {},
   "outputs": [],
   "source": [
    "Requests_df[\"service_name\"].value_counts()"
   ]
  },
  {
   "cell_type": "code",
   "execution_count": null,
   "metadata": {},
   "outputs": [],
   "source": [
    "Graffiti = Requests_df.loc[Requests_df[\"service_name\"] == \"Graffiti\"]\n",
    "#request_df = [()]\n",
    "Graffiti_num = len(Graffiti[\"service_name\"])\n",
    "Graffiti_num"
   ]
  },
  {
   "cell_type": "code",
   "execution_count": null,
   "metadata": {},
   "outputs": [],
   "source": [
    "Pothole = Requests_df.loc[Requests_df[\"service_name\"] == \"Pothole\"]\n",
    "Pothole_num = len(Pothole[\"service_name\"])\n",
    "Pothole_num"
   ]
  },
  {
   "cell_type": "code",
   "execution_count": null,
   "metadata": {},
   "outputs": [],
   "source": [
    "Abandoned_Vehicle = Requests_df.loc[(Requests_df[\"service_name\"] == \"Abandoned Vehicle\") ^ (Requests_df[\"service_name\"] == \"72-hour Vehicle Violation\")]\n",
    "Abandoned_Vehicle_num = len(Abandoned_Vehicle[\"service_name\"])\n",
    "Abandoned_Vehicle_num"
   ]
  },
  {
   "cell_type": "code",
   "execution_count": null,
   "metadata": {},
   "outputs": [],
   "source": [
    "Illegal_Dumping = Requests_df.loc[(Requests_df[\"service_name\"] == \"Illegal Dumping\") ^ (Requests_df[\"service_name\"] == \"Illegal Discharge\")]\n",
    "Illegal_Dumping_num = len(Illegal_Dumping[\"service_name\"])\n",
    "Illegal_Dumping_num"
   ]
  },
  {
   "cell_type": "code",
   "execution_count": null,
   "metadata": {},
   "outputs": [],
   "source": [
    "Street_work = Requests_df.loc[(Requests_df[\"service_name\"] == \"Traffic Signal\") ^ (Requests_df[\"service_name\"] == \"Street Light\") ^ (Requests_df[\"service_name\"] == \"Traffic Sign\") ^ (Requests_df[\"service_name\"] == \"Faded Striping\")]\n",
    "Street_work_num = len(Street_work[\"service_name\"])\n",
    "Street_work_num"
   ]
  },
  {
   "cell_type": "code",
   "execution_count": null,
   "metadata": {},
   "outputs": [],
   "source": [
    "Road_work = Requests_df.loc[(Requests_df[\"service_name\"] == \"PAVEMENT\") ^ (Requests_df[\"service_name\"] == \"Damaged Guardrail\") ^ (Requests_df[\"service_name\"] == \"Street Sweeping\") ^ (Requests_df[\"service_name\"] == \"DEBRIS FENCE\") ^ (Requests_df[\"service_name\"] == \"BRIDGE\")]\n",
    "Road_work_num = len(Road_work[\"service_name\"])\n",
    "Road_work_num"
   ]
  },
  {
   "cell_type": "code",
   "execution_count": null,
   "metadata": {},
   "outputs": [],
   "source": [
    "Sidewalk_Curb = Requests_df.loc[(Requests_df[\"service_name\"] == \"Sidewalk\") ^ (Requests_df[\"service_name\"] == \"Curb\")]\n",
    "Sidewalk_Curb_num = len(Sidewalk_Curb[\"service_name\"])\n",
    "Sidewalk_Curb_num"
   ]
  },
  {
   "cell_type": "code",
   "execution_count": null,
   "metadata": {},
   "outputs": [],
   "source": [
    "Parking_and_Meter = Requests_df.loc[(Requests_df[\"service_name\"] == \"Parking Meter\") ^ (Requests_df[\"service_name\"] == \"Parking\")]\n",
    "Parking_and_Meter_num = len(Parking_and_Meter[\"service_name\"])\n",
    "Parking_and_Meter_num"
   ]
  },
  {
   "cell_type": "code",
   "execution_count": null,
   "metadata": {},
   "outputs": [],
   "source": [
    "Trees = Requests_df.loc[(Requests_df[\"service_name\"] == \"TREE\") ^ (Requests_df[\"service_name\"] == \"Tree Hazard\")]\n",
    "Trees_num = len(Trees[\"service_name\"])\n",
    "Trees_num"
   ]
  },
  {
   "cell_type": "code",
   "execution_count": null,
   "metadata": {},
   "outputs": [],
   "source": [
    "Drain_Issues = Requests_df.loc[(Requests_df[\"service_name\"] == \"Storm Drain\") ^ (Requests_df[\"service_name\"] == \"DRAIN INLET\") ^ (Requests_df[\"service_name\"] == \"DRAIN_STR\") ^ (Requests_df[\"service_name\"] == \"DRAIN CLEANOUT\") ^ (Requests_df[\"service_name\"] == \"DRAIN SYSTEM\") ^ (Requests_df[\"service_name\"] == \"DRAINAGE CULVERT\") ^ (Requests_df[\"service_name\"] == \"DRAINAGE DITCH\") ^ (Requests_df[\"service_name\"] == \"CHANNEL\")]\n",
    "Drain_Issues_num = len(Drain_Issues[\"service_name\"])\n",
    "Drain_Issues_num"
   ]
  },
  {
   "cell_type": "code",
   "execution_count": null,
   "metadata": {},
   "outputs": [],
   "source": [
    "Flooding_Issues = Requests_df.loc[(Requests_df[\"service_name\"] == \"Street Flooded\") ^ (Requests_df[\"service_name\"] == \"Over Irrigation\") ^ (Requests_df[\"service_name\"] == \"SPILLWAY\")]\n",
    "Flooding_Issues_num = len(Flooding_Issues[\"service_name\"])\n",
    "Flooding_Issues_num"
   ]
  },
  {
   "cell_type": "code",
   "execution_count": null,
   "metadata": {},
   "outputs": [],
   "source": [
    "Dead_Animal = Requests_df.loc[Requests_df[\"service_name\"] == \"Dead Animal\"]\n",
    "Dead_Animal_num = len(Dead_Animal[\"service_name\"])\n",
    "Dead_Animal_num"
   ]
  },
  {
   "cell_type": "code",
   "execution_count": null,
   "metadata": {},
   "outputs": [],
   "source": [
    "Other = Requests_df.loc[(Requests_df[\"service_name\"] == \"Other\") ^ (Requests_df[\"service_name\"] == \"TRANSFORMER\") ^ (Requests_df[\"service_name\"] == \"GEARBOX\") ^ (Requests_df[\"service_name\"] == \"BRIDGE\") ^ (Requests_df[\"service_name\"] == \"ROW MAINTENANCE\") ^ (Requests_df[\"service_name\"] == \"CONVEYANCES\")]\n",
    "Other_num = len(Other[\"service_name\"])\n",
    "Other_num"
   ]
  },
  {
   "cell_type": "code",
   "execution_count": null,
   "metadata": {},
   "outputs": [],
   "source": [
    "xticks = ['Graffiti', 'Potholes', 'Abandoned Vehicle', 'Illegal Dumping', 'Street work', 'Road work', 'Sidewalk Curb', 'Parking/Meter', 'Trees Troubles', 'Drain Issues', 'Dead Animal', 'Other']\n",
    "Requests_bar_values = [Graffiti_num, Pothole_num, Abandoned_Vehicle_num, Illegal_Dumping_num, Street_work_num, Road_work_num, Sidewalk_Curb_num, Parking_and_Meter_num, Trees_num, Drain_Issues_num, Dead_Animal_num, Other_num]\n",
    "Requests_bar_values_se = pd.Series(Requests_bar_values, index=xticks)\n",
    "Requests_bar_values_se.sort_values(inplace=True)\n",
    "ax = Requests_bar_values_se.plot.barh(title=\"311 San Diego Requests\", figsize = (18, 7))\n",
    "ax.set_xlabel(\"Number of Requests\")\n",
    "ax.set_title(\"311 San Diego Requests\")\n",
    "ax.figure.savefig(os.path.join('..', 'figures', '311_San_Diego_Requests_category.png'))"
   ]
  },
  {
   "cell_type": "code",
   "execution_count": null,
   "metadata": {},
   "outputs": [],
   "source": [
    "#xticks = [Graffiti, Potholes, Abandoned_Vehicle, ]\n",
    "x_axis = np.arange(len(Requests_bar_values))\n",
    "#plt.bar(x_axis, Requests_bar_values)"
   ]
  },
  {
   "cell_type": "code",
   "execution_count": null,
   "metadata": {},
   "outputs": [],
   "source": [
    "Mobile = Requests_df.loc[Requests_df[\"source\"] == \"Mobile\"]\n",
    "Mobile_num = len(Mobile[\"service_name\"])\n",
    "Mobile_num"
   ]
  },
  {
   "cell_type": "code",
   "execution_count": null,
   "metadata": {},
   "outputs": [],
   "source": [
    "Web = Requests_df.loc[Requests_df[\"source\"] == \"Web\"]\n",
    "Web_num = len(Web[\"service_name\"])\n",
    "Web_num"
   ]
  },
  {
   "cell_type": "code",
   "execution_count": null,
   "metadata": {},
   "outputs": [],
   "source": [
    "Phone = Requests_df.loc[Requests_df[\"source\"] == \"Phone\"]\n",
    "Phone_num = len(Phone[\"service_name\"])\n",
    "Phone_num"
   ]
  },
  {
   "cell_type": "code",
   "execution_count": null,
   "metadata": {},
   "outputs": [],
   "source": [
    "Crew_Self_Generated = Requests_df.loc[(Requests_df[\"source\"] == \"Crew/Self Generated\") ^ (Requests_df[\"source\"] == \"Route Slip\") ^ (Requests_df[\"source\"] == \"Deficiency Report\") ^ (Requests_df[\"source\"] == \"Self-Generated\") ^ (Requests_df[\"source\"] == \"Traffic Work Order (TWO)\") ^ (Requests_df[\"source\"] == \"Station 38 Incident Reports\")]\n",
    "Crew_Self_Generated_num = len(Crew_Self_Generated[\"service_name\"])\n",
    "Crew_Self_Generated_num"
   ]
  },
  {
   "cell_type": "code",
   "execution_count": null,
   "metadata": {},
   "outputs": [],
   "source": [
    "Email = Requests_df.loc[Requests_df[\"source\"] == \"Email\"]\n",
    "Email_num = len(Email[\"service_name\"])\n",
    "Email_num"
   ]
  },
  {
   "cell_type": "code",
   "execution_count": null,
   "metadata": {},
   "outputs": [],
   "source": [
    "Other = Requests_df.loc[(Requests_df[\"source\"] == \"Referral Notice\") ^ (Requests_df[\"source\"] == \"Cost Schedule\") ^ (Requests_df[\"source\"] == \"Walk-In\") ^ (Requests_df[\"source\"] == \"Garage Run\") ^ (Requests_df[\"source\"] == \"999\") ^ (Requests_df[\"source\"] == \"Accessibility - A.D.A.\") ^ (Requests_df[\"source\"] == \"In Person\") ^ (Requests_df[\"source\"] == \"Letter\")]\n",
    "Other_Source_num = len(Other[\"service_name\"])\n",
    "Other_Source_num"
   ]
  },
  {
   "cell_type": "code",
   "execution_count": null,
   "metadata": {},
   "outputs": [],
   "source": [
    "xticks_sources = ['Mobile', 'Web', 'Phone', 'Self Generated', 'Email', 'Other']\n",
    "Requests_bar_values = [Mobile_num, Web_num, Phone_num, Crew_Self_Generated_num, Email_num, Other_Source_num]\n",
    "Requests_bar_values_se = pd.Series(Requests_bar_values, index=xticks_sources)\n",
    "Requests_bar_values_se.sort_values(inplace=True)\n",
    "a = Requests_bar_values_se.plot.barh(title=\"311 San Diego Requests\", figsize = (18, 7))\n",
    "a.set_xlabel(\"Number of Requests\")\n",
    "a.set_title(\"311 San Diego Requests\")\n",
    "ax.figure.savefig(os.path.join('..', 'figures', '311_San_Diego_Requests_sources.png'))"
   ]
  },
  {
   "cell_type": "code",
   "execution_count": null,
   "metadata": {},
   "outputs": [],
   "source": [
    "Requests_df[\"service_name\"].describe()"
   ]
  },
  {
   "cell_type": "code",
   "execution_count": null,
   "metadata": {},
   "outputs": [],
   "source": [
    "Total_Requests = Requests_df[\"service_name\"].count()\n",
    "Total_Requests"
   ]
  },
  {
   "cell_type": "code",
   "execution_count": null,
   "metadata": {},
   "outputs": [],
   "source": [
    "#, 'Parking/Meter ' + \"{0:.0%}\".format(Parking_and_Meter_num/Total_Requests) , Parking_and_Meter_num/Total_Requests\n",
    "xticks = ['Graffiti ' + \"{0:.0%}\".format(Graffiti_num/Total_Requests), 'Potholes ' + \"{0:.0%}\".format(Pothole_num/Total_Requests), 'Abandoned Vehicle ' + \"{0:.0%}\".format(Abandoned_Vehicle_num/Total_Requests), 'Illegal Dumping ' + \"{0:.0%}\".format(Illegal_Dumping_num/Total_Requests), 'Street work ' + \"{0:.0%}\".format(Street_work_num/Total_Requests), 'Road work ' + \"{0:.0%}\".format(Road_work_num/Total_Requests), 'Sidewalk Curb ' + \"{0:.0%}\".format(Sidewalk_Curb_num/Total_Requests), 'Trees Troubles ' + \"{0:.0%}\".format(Trees_num/Total_Requests), 'Drain Issues ' + \"{0:.0%}\".format(Drain_Issues_num/Total_Requests), 'Dead Animal ' + \"{0:.0%}\".format(Dead_Animal_num/Total_Requests), 'Other ' + \"{0:.0%}\".format(Other_num/Total_Requests)]\n",
    "Requests_bar_values = [Graffiti_num/Total_Requests, Pothole_num/Total_Requests, Abandoned_Vehicle_num/Total_Requests, Illegal_Dumping_num/Total_Requests, Street_work_num/Total_Requests, Road_work_num/Total_Requests, Sidewalk_Curb_num/Total_Requests, Trees_num/Total_Requests, Drain_Issues_num/Total_Requests, Dead_Animal_num/Total_Requests, Other_num/Total_Requests]\n",
    "Requests_bar_values_se = pd.Series(Requests_bar_values, index=xticks)\n",
    "Requests_bar_values_se.sort_values(inplace=True)\n",
    "ax = Requests_bar_values_se.plot.pie(title=\"311 San Diego Requests\", figsize = (7, 7), fontsize=11)\n",
    "ax.set_xlabel(\"Percentages of Requests\")\n",
    "ax.set_ylabel(\" \")\n",
    "ax.set_title(\"311 San Diego Requests\")\n",
    "ax.figure.savefig(\"311 San Diego Requests Percentages.png\")"
   ]
  },
  {
   "cell_type": "code",
   "execution_count": null,
   "metadata": {},
   "outputs": [],
   "source": [
    "Requests_df[\"source\"].describe()"
   ]
  },
  {
   "cell_type": "code",
   "execution_count": null,
   "metadata": {},
   "outputs": [],
   "source": [
    "Total_Sources = Requests_df[\"source\"].count()\n",
    "Total_Sources"
   ]
  },
  {
   "cell_type": "code",
   "execution_count": null,
   "metadata": {},
   "outputs": [],
   "source": [
    "#, 'Other ' + \"{0:.0%}\".format(Other_Source_num/Total_Sources), , Other_Source_num\n",
    "xticks = ['Mobile ' + \"{0:.0%}\".format(Mobile_num/Total_Sources), 'Web ' + \"{0:.0%}\".format(Web_num/Total_Sources), 'Phone ' + \"{0:.0%}\".format(Phone_num/Total_Sources), 'Crew_Self_Generated ' + \"{0:.0%}\".format(Crew_Self_Generated_num/Total_Sources), 'Email ' + \"{0:.0%}\".format(Email_num/Total_Sources)]\n",
    "Requests_bar_values = [Mobile_num, Web_num, Phone_num, Crew_Self_Generated_num, Email_num]\n",
    "Requests_bar_values_se = pd.Series(Requests_bar_values, index=xticks)\n",
    "Requests_bar_values_se.sort_values(inplace=True)\n",
    "ax = Requests_bar_values_se.plot.pie(title=\"311 San Diego Requests\", figsize = (7, 7), fontsize=12)\n",
    "ax.set_xlabel(\"Percentages of Requests\")\n",
    "ax.set_ylabel(\" \")\n",
    "ax.set_title(\"311 San Diego Requests\")"
   ]
  },
  {
   "cell_type": "code",
   "execution_count": null,
   "metadata": {},
   "outputs": [],
   "source": [
    "Total_Requests = Requests_df[\"service_name\"].count()\n",
    "Total_Requests"
   ]
  },
  {
   "cell_type": "code",
   "execution_count": null,
   "metadata": {},
   "outputs": [],
   "source": [
    "Total_id = Requests_df[\"service_request_id\"].count()\n",
    "Total_id"
   ]
  },
  {
   "cell_type": "code",
   "execution_count": null,
   "metadata": {},
   "outputs": [],
   "source": [
    "#Requests_df"
   ]
  },
  {
   "cell_type": "code",
   "execution_count": null,
   "metadata": {},
   "outputs": [],
   "source": [
    "xticks = ['Mobile ' + \"{0:.0%}\".format(Mobile_num/Total_id), 'Web ' + \"{0:.0%}\".format(Web_num/Total_id), 'Phone ' + \"{0:.0%}\".format(Phone_num/Total_id), 'Crew_Self_Generated ' + \"{0:.0%}\".format(Crew_Self_Generated_num/Total_id), 'Email ' + \"{0:.0%}\".format(Email_num/Total_id)]\n",
    "Requests_bar_values = [Mobile_num, Web_num, Phone_num, Crew_Self_Generated_num, Email_num]\n",
    "Requests_bar_values_se = pd.Series(Requests_bar_values, index=xticks)\n",
    "Requests_bar_values_se.sort_values(inplace=True)\n",
    "ax = Requests_bar_values_se.plot.pie(title=\"311 San Diego Requests\", figsize = (7, 7), fontsize=12)\n",
    "ax.set_xlabel(\"Percentages of Requests\")\n",
    "ax.set_ylabel(\" \")\n",
    "ax.set_title(\"311 San Diego Requests\")\n",
    "ax.figure.savefig(os.path.join('..', 'figures', '311_San_Diego_Requests_sources_percentages.png'))"
   ]
  },
  {
   "cell_type": "code",
   "execution_count": null,
   "metadata": {},
   "outputs": [],
   "source": [
    "xticks = ['Graffiti ' + \"{0:.0%}\".format(Graffiti_num/Total_id), 'Potholes ' + \"{0:.0%}\".format(Pothole_num/Total_id), 'Abandoned Vehicle ' + \"{0:.0%}\".format(Abandoned_Vehicle_num/Total_id), 'Illegal Dumping ' + \"{0:.0%}\".format(Illegal_Dumping_num/Total_id), 'Street work ' + \"{0:.0%}\".format(Street_work_num/Total_id), 'Road work ' + \"{0:.0%}\".format(Road_work_num/Total_id), 'Sidewalk Curb ' + \"{0:.0%}\".format(Sidewalk_Curb_num/Total_id), 'Trees Troubles ' + \"{0:.0%}\".format(Trees_num/Total_id), 'Drain Issues ' + \"{0:.0%}\".format(Drain_Issues_num/Total_id), 'Dead Animal ' + \"{0:.0%}\".format(Dead_Animal_num/Total_id), 'Other ' + \"{0:.0%}\".format(Other_num/Total_id)]\n",
    "Requests_bar_values = [Graffiti_num/Total_Requests, Pothole_num/Total_Requests, Abandoned_Vehicle_num/Total_Requests, Illegal_Dumping_num/Total_Requests, Street_work_num/Total_Requests, Road_work_num/Total_Requests, Sidewalk_Curb_num/Total_Requests, Trees_num/Total_Requests, Drain_Issues_num/Total_Requests, Dead_Animal_num/Total_Requests, Other_num/Total_Requests]\n",
    "Requests_bar_values_se = pd.Series(Requests_bar_values, index=xticks)\n",
    "Requests_bar_values_se.sort_values(inplace=True)\n",
    "ax = Requests_bar_values_se.plot.pie(title=\"311 San Diego Requests\", figsize = (10, 10))\n",
    "ax.set_xlabel(\"Percentages of Requests\")\n",
    "ax.set_ylabel(\" \")\n",
    "ax.set_title(\"311 San Diego Requests\")\n",
    "ax.figure.savefig(os.path.join('..', 'figures', '311_San_Diego_Requests_category_percentages.png'))"
   ]
  },
  {
   "cell_type": "code",
   "execution_count": null,
   "metadata": {},
   "outputs": [],
   "source": []
  }
 ],
 "metadata": {
  "kernelspec": {
   "display_name": "Python [conda env:PythonData]",
   "language": "python",
   "name": "conda-env-PythonData-py"
  },
  "language_info": {
   "codemirror_mode": {
    "name": "ipython",
    "version": 3
   },
   "file_extension": ".py",
   "mimetype": "text/x-python",
   "name": "python",
   "nbconvert_exporter": "python",
   "pygments_lexer": "ipython3",
   "version": "3.5.5"
  }
 },
 "nbformat": 4,
 "nbformat_minor": 2
}
