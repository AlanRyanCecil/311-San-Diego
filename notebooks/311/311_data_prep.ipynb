{
 "cells": [
  {
   "cell_type": "code",
   "execution_count": 18,
   "metadata": {},
   "outputs": [],
   "source": [
    "import os\n",
    "import datetime\n",
    "import regex as reg\n",
    "import pandas as pd"
   ]
  },
  {
   "cell_type": "code",
   "execution_count": 19,
   "metadata": {},
   "outputs": [],
   "source": [
    "csv_path = os.path.join('..', '..', 'raw', 'get_it_done_311_requests_datasd.csv')\n",
    "df = pd.read_csv(csv_path, low_memory=False)"
   ]
  },
  {
   "cell_type": "code",
   "execution_count": 20,
   "metadata": {},
   "outputs": [
    {
     "data": {
      "text/plain": [
       "service_request_id         275281\n",
       "parent_case_number         275281\n",
       "status_description         275281\n",
       "mobile_web_status          275281\n",
       "duplicate_verified         275281\n",
       "override_duplicate         275281\n",
       "functional_location        249932\n",
       "referral_email                745\n",
       "referred_email_update       43935\n",
       "source                     275280\n",
       "requested_datetime         275281\n",
       "closed_date                125670\n",
       "updated_datetime           158982\n",
       "open                       275281\n",
       "closed                     275281\n",
       "description                273914\n",
       "agency_responsible         274720\n",
       "service_name               274244\n",
       "service_subtype             72326\n",
       "coordinates                275281\n",
       "lat                        275281\n",
       "long                       275281\n",
       "sap_notification_number    104035\n",
       "sap_problem_category       156983\n",
       "sap_problem_code           156947\n",
       "sap_problem_type           156964\n",
       "address                    274431\n",
       "case_record_type           275281\n",
       "district                   274405\n",
       "dtype: int64"
      ]
     },
     "execution_count": 20,
     "metadata": {},
     "output_type": "execute_result"
    }
   ],
   "source": [
    "df.count()"
   ]
  },
  {
   "cell_type": "markdown",
   "metadata": {},
   "source": [
    "### split data and time and create columns for year,  month and day"
   ]
  },
  {
   "cell_type": "code",
   "execution_count": 21,
   "metadata": {
    "scrolled": true
   },
   "outputs": [
    {
     "data": {
      "text/html": [
       "<div>\n",
       "<style scoped>\n",
       "    .dataframe tbody tr th:only-of-type {\n",
       "        vertical-align: middle;\n",
       "    }\n",
       "\n",
       "    .dataframe tbody tr th {\n",
       "        vertical-align: top;\n",
       "    }\n",
       "\n",
       "    .dataframe thead th {\n",
       "        text-align: right;\n",
       "    }\n",
       "</style>\n",
       "<table border=\"1\" class=\"dataframe\">\n",
       "  <thead>\n",
       "    <tr style=\"text-align: right;\">\n",
       "      <th></th>\n",
       "      <th>year</th>\n",
       "      <th>month</th>\n",
       "      <th>day</th>\n",
       "      <th>weekday</th>\n",
       "    </tr>\n",
       "  </thead>\n",
       "  <tbody>\n",
       "    <tr>\n",
       "      <th>275276</th>\n",
       "      <td>2016</td>\n",
       "      <td>5</td>\n",
       "      <td>20</td>\n",
       "      <td>Friday</td>\n",
       "    </tr>\n",
       "    <tr>\n",
       "      <th>275277</th>\n",
       "      <td>2016</td>\n",
       "      <td>5</td>\n",
       "      <td>20</td>\n",
       "      <td>Friday</td>\n",
       "    </tr>\n",
       "    <tr>\n",
       "      <th>275278</th>\n",
       "      <td>2016</td>\n",
       "      <td>5</td>\n",
       "      <td>20</td>\n",
       "      <td>Friday</td>\n",
       "    </tr>\n",
       "    <tr>\n",
       "      <th>275279</th>\n",
       "      <td>2016</td>\n",
       "      <td>5</td>\n",
       "      <td>20</td>\n",
       "      <td>Friday</td>\n",
       "    </tr>\n",
       "    <tr>\n",
       "      <th>275280</th>\n",
       "      <td>2016</td>\n",
       "      <td>5</td>\n",
       "      <td>20</td>\n",
       "      <td>Friday</td>\n",
       "    </tr>\n",
       "  </tbody>\n",
       "</table>\n",
       "</div>"
      ],
      "text/plain": [
       "        year  month  day weekday\n",
       "275276  2016      5   20  Friday\n",
       "275277  2016      5   20  Friday\n",
       "275278  2016      5   20  Friday\n",
       "275279  2016      5   20  Friday\n",
       "275280  2016      5   20  Friday"
      ]
     },
     "execution_count": 21,
     "metadata": {},
     "output_type": "execute_result"
    }
   ],
   "source": [
    "df['date'], df['time'] = df['requested_datetime'].str.split('T').str\n",
    "df['date_array'] = df['date'].map(lambda x: [int(y) for y in x.split('-')])\n",
    "df['weekday'] = df['date_array'].map(lambda x: datetime.date(*x).strftime('%A'))\n",
    "df[['year', 'month', 'day']] = pd.DataFrame(df['date_array'].values.tolist(), index=df.index)\n",
    "df[['year', 'month', 'day', 'weekday']].tail()"
   ]
  },
  {
   "cell_type": "markdown",
   "metadata": {},
   "source": [
    "### drop unneeded columns"
   ]
  },
  {
   "cell_type": "code",
   "execution_count": 22,
   "metadata": {},
   "outputs": [],
   "source": [
    "df.drop([\n",
    "    'date_array',\n",
    "    'requested_datetime',\n",
    "    'coordinates',\n",
    "    'referral_email',\n",
    "    'referred_email_update',\n",
    "    'parent_case_number',\n",
    "    'sap_notification_number',\n",
    "    'sap_problem_code',\n",
    "    ], axis='columns', inplace=True)"
   ]
  },
  {
   "cell_type": "markdown",
   "metadata": {},
   "source": [
    "#### save to file"
   ]
  },
  {
   "cell_type": "code",
   "execution_count": 23,
   "metadata": {},
   "outputs": [],
   "source": [
    "df.to_csv(os.path.join('..', '..', 'data', '311_cleaned_data_.csv'), index=False)"
   ]
  },
  {
   "cell_type": "code",
   "execution_count": null,
   "metadata": {},
   "outputs": [],
   "source": []
  }
 ],
 "metadata": {
  "kernelspec": {
   "display_name": "Python [conda env:PythonData]",
   "language": "python",
   "name": "conda-env-PythonData-py"
  },
  "language_info": {
   "codemirror_mode": {
    "name": "ipython",
    "version": 3
   },
   "file_extension": ".py",
   "mimetype": "text/x-python",
   "name": "python",
   "nbconvert_exporter": "python",
   "pygments_lexer": "ipython3",
   "version": "3.5.5"
  }
 },
 "nbformat": 4,
 "nbformat_minor": 2
}
