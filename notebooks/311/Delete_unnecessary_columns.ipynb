{
 "cells": [
  {
   "cell_type": "code",
   "execution_count": 1,
   "metadata": {},
   "outputs": [],
   "source": [
    "import os\n",
    "import pandas as pd\n",
    "from pprint import pprint"
   ]
  },
  {
   "cell_type": "code",
   "execution_count": 2,
   "metadata": {},
   "outputs": [],
   "source": [
    "csv_path = os.path.join('..', '..', 'raw', 'get_it_done_311_requests_datasd.csv')\n",
    "dirty_df = pd.read_csv(csv_path, low_memory=False)"
   ]
  },
  {
   "cell_type": "code",
   "execution_count": 3,
   "metadata": {},
   "outputs": [
    {
     "data": {
      "text/plain": [
       "(275281, 29)"
      ]
     },
     "execution_count": 3,
     "metadata": {},
     "output_type": "execute_result"
    }
   ],
   "source": [
    "dirty_df.shape"
   ]
  },
  {
   "cell_type": "code",
   "execution_count": 6,
   "metadata": {},
   "outputs": [
    {
     "data": {
      "text/plain": [
       "0                                                NaN\n",
       "1                                                NaN\n",
       "2                                                NaN\n",
       "3                                                NaN\n",
       "4                                                NaN\n",
       "5                                                NaN\n",
       "6                                                NaN\n",
       "7                                                NaN\n",
       "8                                                NaN\n",
       "9                                                NaN\n",
       "10                                               NaN\n",
       "11                                               NaN\n",
       "12                                               NaN\n",
       "13                                               NaN\n",
       "14                                               NaN\n",
       "15                                               NaN\n",
       "16                                               NaN\n",
       "17                                               NaN\n",
       "18                                               NaN\n",
       "19                                               NaN\n",
       "20                                               NaN\n",
       "21                         TRAFFIC - Traffic Control\n",
       "22                                               NaN\n",
       "23                                               NaN\n",
       "24                                               NaN\n",
       "25                                               NaN\n",
       "26                                               NaN\n",
       "27                                               NaN\n",
       "28                                               NaN\n",
       "29                                               NaN\n",
       "                             ...                    \n",
       "275251    SW/CURB - Sidewalk and/or Curb Maintenance\n",
       "275252                   STREET - Streets and Alleys\n",
       "275253                     SIGNALS - Traffic Signals\n",
       "275254       TREE/SUP - Tree/Support/Code Compliance\n",
       "275255                   STREET - Streets and Alleys\n",
       "275256                     TRAFFIC - Traffic Control\n",
       "275257                   STREET - Streets and Alleys\n",
       "275258       TREE/SUP - Tree/Support/Code Compliance\n",
       "275259                   STREET - Streets and Alleys\n",
       "275260       TREE/SUP - Tree/Support/Code Compliance\n",
       "275261                   STREET - Streets and Alleys\n",
       "275262                     TRAFFIC - Traffic Control\n",
       "275263    SW/CURB - Sidewalk and/or Curb Maintenance\n",
       "275264                   STREET - Streets and Alleys\n",
       "275265                     TRAFFIC - Traffic Control\n",
       "275266                   STREET - Streets and Alleys\n",
       "275267                   STREET - Streets and Alleys\n",
       "275268       TREE/SUP - Tree/Support/Code Compliance\n",
       "275269                     TRAFFIC - Traffic Control\n",
       "275270                     SIGNALS - Traffic Signals\n",
       "275271                     TRAFFIC - Traffic Control\n",
       "275272                   STREET - Streets and Alleys\n",
       "275273       TREE/SUP - Tree/Support/Code Compliance\n",
       "275274                     SIGNALS - Traffic Signals\n",
       "275275                     TRAFFIC - Traffic Control\n",
       "275276                   STREET - Streets and Alleys\n",
       "275277                   STREET - Streets and Alleys\n",
       "275278                   STREET - Streets and Alleys\n",
       "275279                     TRAFFIC - Traffic Control\n",
       "275280                     TRAFFIC - Traffic Control\n",
       "Name: sap_problem_category, Length: 275281, dtype: object"
      ]
     },
     "execution_count": 6,
     "metadata": {},
     "output_type": "execute_result"
    }
   ],
   "source": [
    "dirty_df['sap_problem_category']"
   ]
  },
  {
   "cell_type": "code",
   "execution_count": 12,
   "metadata": {},
   "outputs": [
    {
     "data": {
      "text/plain": [
       "service_request_id         275281\n",
       "parent_case_number         275281\n",
       "status_description         275281\n",
       "mobile_web_status          275281\n",
       "duplicate_verified         275281\n",
       "override_duplicate         275281\n",
       "functional_location        249932\n",
       "referral_email                745\n",
       "referred_email_update       43935\n",
       "source                     275280\n",
       "requested_datetime         275281\n",
       "closed_date                125670\n",
       "updated_datetime           158982\n",
       "open                       275281\n",
       "closed                     275281\n",
       "description                273914\n",
       "agency_responsible         274720\n",
       "service_name               274244\n",
       "service_subtype             72326\n",
       "coordinates                275281\n",
       "lat                        275281\n",
       "long                       275281\n",
       "sap_notification_number    104035\n",
       "sap_problem_category       156983\n",
       "sap_problem_code           156947\n",
       "sap_problem_type           156964\n",
       "address                    274431\n",
       "case_record_type           275281\n",
       "district                   274405\n",
       "dtype: int64"
      ]
     },
     "execution_count": 12,
     "metadata": {},
     "output_type": "execute_result"
    }
   ],
   "source": [
    "dirty_df.count()"
   ]
  },
  {
   "cell_type": "markdown",
   "metadata": {},
   "source": [
    "#### delete columns"
   ]
  },
  {
   "cell_type": "code",
   "execution_count": 15,
   "metadata": {},
   "outputs": [],
   "source": [
    "dirty_df.drop(['coordinates',\n",
    "               'referral_email',\n",
    "               'referred_email_update',\n",
    "               'parent_case_number',\n",
    "               'sap_notification_number',\n",
    "               'sap_problem_code',\n",
    "              ], axis='columns', inplace=True)"
   ]
  },
  {
   "cell_type": "markdown",
   "metadata": {},
   "source": [
    "#### save to file"
   ]
  },
  {
   "cell_type": "code",
   "execution_count": null,
   "metadata": {},
   "outputs": [],
   "source": [
    "dirty_df.to_csv(os.path.join('..', '..', 'data', 'get_it_done_311_requests_data_subset_.csv'))"
   ]
  }
 ],
 "metadata": {
  "kernelspec": {
   "display_name": "Python [conda env:PythonData]",
   "language": "python",
   "name": "conda-env-PythonData-py"
  },
  "language_info": {
   "codemirror_mode": {
    "name": "ipython",
    "version": 3
   },
   "file_extension": ".py",
   "mimetype": "text/x-python",
   "name": "python",
   "nbconvert_exporter": "python",
   "pygments_lexer": "ipython3",
   "version": "3.5.5"
  }
 },
 "nbformat": 4,
 "nbformat_minor": 2
}
