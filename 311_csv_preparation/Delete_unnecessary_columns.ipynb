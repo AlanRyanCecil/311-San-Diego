{
 "cells": [
  {
   "cell_type": "code",
   "execution_count": 9,
   "metadata": {},
   "outputs": [],
   "source": [
    "import os\n",
    "import pandas as pd\n",
    "from pprint import pprint"
   ]
  },
  {
   "cell_type": "code",
   "execution_count": 10,
   "metadata": {},
   "outputs": [],
   "source": [
    "csv_path = os.path.join('..', 'Resource', 'get_it_done_311_requests_datasd.csv')\n",
    "dirty_df = pd.read_csv(csv_path, low_memory=False)"
   ]
  },
  {
   "cell_type": "code",
   "execution_count": 11,
   "metadata": {},
   "outputs": [
    {
     "data": {
      "text/plain": [
       "(275281, 29)"
      ]
     },
     "execution_count": 11,
     "metadata": {},
     "output_type": "execute_result"
    }
   ],
   "source": [
    "dirty_df.shape"
   ]
  },
  {
   "cell_type": "code",
   "execution_count": 12,
   "metadata": {},
   "outputs": [
    {
     "data": {
      "text/plain": [
       "service_request_id         275281\n",
       "parent_case_number         275281\n",
       "status_description         275281\n",
       "mobile_web_status          275281\n",
       "duplicate_verified         275281\n",
       "override_duplicate         275281\n",
       "functional_location        249932\n",
       "referral_email                745\n",
       "referred_email_update       43935\n",
       "source                     275280\n",
       "requested_datetime         275281\n",
       "closed_date                125670\n",
       "updated_datetime           158982\n",
       "open                       275281\n",
       "closed                     275281\n",
       "description                273914\n",
       "agency_responsible         274720\n",
       "service_name               274244\n",
       "service_subtype             72326\n",
       "coordinates                275281\n",
       "lat                        275281\n",
       "long                       275281\n",
       "sap_notification_number    104035\n",
       "sap_problem_category       156983\n",
       "sap_problem_code           156947\n",
       "sap_problem_type           156964\n",
       "address                    274431\n",
       "case_record_type           275281\n",
       "district                   274405\n",
       "dtype: int64"
      ]
     },
     "execution_count": 12,
     "metadata": {},
     "output_type": "execute_result"
    }
   ],
   "source": [
    "dirty_df.count()"
   ]
  },
  {
   "cell_type": "markdown",
   "metadata": {},
   "source": [
    "#### delete columns"
   ]
  },
  {
   "cell_type": "code",
   "execution_count": 15,
   "metadata": {},
   "outputs": [],
   "source": [
    "dirty_df.drop(['coordinates',\n",
    "               'referral_email',\n",
    "               'referred_email_update',\n",
    "               'parent_case_number',\n",
    "               'sap_notification_number',\n",
    "               'sap_problem_code',\n",
    "              ], axis='columns', inplace=True)"
   ]
  },
  {
   "cell_type": "markdown",
   "metadata": {},
   "source": [
    "#### save to file"
   ]
  },
  {
   "cell_type": "code",
   "execution_count": 62,
   "metadata": {},
   "outputs": [],
   "source": [
    "dirty_df.to_csv(os.path.join('..', 'Resource', 'get_it_done_311_requests_data_subset_.csv'))"
   ]
  }
 ],
 "metadata": {
  "kernelspec": {
   "display_name": "Python [conda env:PythonData]",
   "language": "python",
   "name": "conda-env-PythonData-py"
  },
  "language_info": {
   "codemirror_mode": {
    "name": "ipython",
    "version": 3
   },
   "file_extension": ".py",
   "mimetype": "text/x-python",
   "name": "python",
   "nbconvert_exporter": "python",
   "pygments_lexer": "ipython3",
   "version": "3.5.5"
  }
 },
 "nbformat": 4,
 "nbformat_minor": 2
}
